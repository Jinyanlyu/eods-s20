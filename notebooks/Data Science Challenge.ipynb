{
 "cells": [
  {
   "cell_type": "markdown",
   "metadata": {},
   "source": [
    "**Data Science Challenge**"
   ]
  },
  {
   "cell_type": "markdown",
   "metadata": {},
   "source": [
    "---\n",
    "---"
   ]
  },
  {
   "cell_type": "markdown",
   "metadata": {
    "toc": true
   },
   "source": [
    "<h1>Table of Contents<span class=\"tocSkip\"></span></h1>\n",
    "<div class=\"toc\"><ul class=\"toc-item\"><li><span><a href=\"#Problem-Definition\" data-toc-modified-id=\"Problem-Definition-1\"><span class=\"toc-item-num\">1&nbsp;&nbsp;</span>Problem Definition</a></span></li><li><span><a href=\"#Results\" data-toc-modified-id=\"Results-2\"><span class=\"toc-item-num\">2&nbsp;&nbsp;</span>Results</a></span><ul class=\"toc-item\"><li><span><a href=\"#Data-Collection\" data-toc-modified-id=\"Data-Collection-2.1\"><span class=\"toc-item-num\">2.1&nbsp;&nbsp;</span>Data Collection</a></span></li><li><span><a href=\"#Feature-Engineering\" data-toc-modified-id=\"Feature-Engineering-2.2\"><span class=\"toc-item-num\">2.2&nbsp;&nbsp;</span>Feature Engineering</a></span></li><li><span><a href=\"#Training-and-Evaluation-Datasets\" data-toc-modified-id=\"Training-and-Evaluation-Datasets-2.3\"><span class=\"toc-item-num\">2.3&nbsp;&nbsp;</span>Training and Evaluation Datasets</a></span></li><li><span><a href=\"#Model-Selection\" data-toc-modified-id=\"Model-Selection-2.4\"><span class=\"toc-item-num\">2.4&nbsp;&nbsp;</span>Model Selection</a></span></li><li><span><a href=\"#Coefficient-Analysis-and-Feature-Importance\" data-toc-modified-id=\"Coefficient-Analysis-and-Feature-Importance-2.5\"><span class=\"toc-item-num\">2.5&nbsp;&nbsp;</span>Coefficient Analysis and Feature Importance</a></span></li><li><span><a href=\"#Generalization-Performance\" data-toc-modified-id=\"Generalization-Performance-2.6\"><span class=\"toc-item-num\">2.6&nbsp;&nbsp;</span>Generalization Performance</a></span></li></ul></li><li><span><a href=\"#Data-Ingestion\" data-toc-modified-id=\"Data-Ingestion-3\"><span class=\"toc-item-num\">3&nbsp;&nbsp;</span>Data Ingestion</a></span><ul class=\"toc-item\"><li><span><a href=\"#ds-result\" data-toc-modified-id=\"ds-result-3.1\"><span class=\"toc-item-num\">3.1&nbsp;&nbsp;</span>ds-result</a></span></li><li><span><a href=\"#ds-app\" data-toc-modified-id=\"ds-app-3.2\"><span class=\"toc-item-num\">3.2&nbsp;&nbsp;</span>ds-app</a></span></li><li><span><a href=\"#ds-borrower\" data-toc-modified-id=\"ds-borrower-3.3\"><span class=\"toc-item-num\">3.3&nbsp;&nbsp;</span>ds-borrower</a></span></li><li><span><a href=\"#ds-credit\" data-toc-modified-id=\"ds-credit-3.4\"><span class=\"toc-item-num\">3.4&nbsp;&nbsp;</span>ds-credit</a></span></li><li><span><a href=\"#Combine-datasets\" data-toc-modified-id=\"Combine-datasets-3.5\"><span class=\"toc-item-num\">3.5&nbsp;&nbsp;</span>Combine datasets</a></span></li></ul></li><li><span><a href=\"#Feature-Engineering\" data-toc-modified-id=\"Feature-Engineering-4\"><span class=\"toc-item-num\">4&nbsp;&nbsp;</span>Feature Engineering</a></span><ul class=\"toc-item\"><li><span><a href=\"#'WasTheLoanApproved'\" data-toc-modified-id=\"'WasTheLoanApproved'-4.1\"><span class=\"toc-item-num\">4.1&nbsp;&nbsp;</span>'WasTheLoanApproved'</a></span></li><li><span><a href=\"#'LoanPayoffPeriodInMonths'\" data-toc-modified-id=\"'LoanPayoffPeriodInMonths'-4.2\"><span class=\"toc-item-num\">4.2&nbsp;&nbsp;</span>'LoanPayoffPeriodInMonths'</a></span></li><li><span><a href=\"#'LoanReason'\" data-toc-modified-id=\"'LoanReason'-4.3\"><span class=\"toc-item-num\">4.3&nbsp;&nbsp;</span>'LoanReason'</a></span></li><li><span><a href=\"#'RequestedAmount'\" data-toc-modified-id=\"'RequestedAmount'-4.4\"><span class=\"toc-item-num\">4.4&nbsp;&nbsp;</span>'RequestedAmount'</a></span></li><li><span><a href=\"#'InterestRate'\" data-toc-modified-id=\"'InterestRate'-4.5\"><span class=\"toc-item-num\">4.5&nbsp;&nbsp;</span>'InterestRate'</a></span></li><li><span><a href=\"#'Co-Applicant'\" data-toc-modified-id=\"'Co-Applicant'-4.6\"><span class=\"toc-item-num\">4.6&nbsp;&nbsp;</span>'Co-Applicant'</a></span></li><li><span><a href=\"#'YearsAtCurrentEmployer'\" data-toc-modified-id=\"'YearsAtCurrentEmployer'-4.7\"><span class=\"toc-item-num\">4.7&nbsp;&nbsp;</span>'YearsAtCurrentEmployer'</a></span></li><li><span><a href=\"#'YearsInCurrentResidence'\" data-toc-modified-id=\"'YearsInCurrentResidence'-4.8\"><span class=\"toc-item-num\">4.8&nbsp;&nbsp;</span>'YearsInCurrentResidence'</a></span></li><li><span><a href=\"#'Age'\" data-toc-modified-id=\"'Age'-4.9\"><span class=\"toc-item-num\">4.9&nbsp;&nbsp;</span>'Age'</a></span></li><li><span><a href=\"#'RentOrOwnHome'\" data-toc-modified-id=\"'RentOrOwnHome'-4.10\"><span class=\"toc-item-num\">4.10&nbsp;&nbsp;</span>'RentOrOwnHome'</a></span></li><li><span><a href=\"#'TypeOfCurrentEmployment'\" data-toc-modified-id=\"'TypeOfCurrentEmployment'-4.11\"><span class=\"toc-item-num\">4.11&nbsp;&nbsp;</span>'TypeOfCurrentEmployment'</a></span></li><li><span><a href=\"#'NumberOfDependantsIncludingSelf'\" data-toc-modified-id=\"'NumberOfDependantsIncludingSelf'-4.12\"><span class=\"toc-item-num\">4.12&nbsp;&nbsp;</span>'NumberOfDependantsIncludingSelf'</a></span></li><li><span><a href=\"#'CheckingAccountBalance'\" data-toc-modified-id=\"'CheckingAccountBalance'-4.13\"><span class=\"toc-item-num\">4.13&nbsp;&nbsp;</span>'CheckingAccountBalance'</a></span></li><li><span><a href=\"#'DebtsPaid'\" data-toc-modified-id=\"'DebtsPaid'-4.14\"><span class=\"toc-item-num\">4.14&nbsp;&nbsp;</span>'DebtsPaid'</a></span></li><li><span><a href=\"#'SavingsAccountBalance'\" data-toc-modified-id=\"'SavingsAccountBalance'-4.15\"><span class=\"toc-item-num\">4.15&nbsp;&nbsp;</span>'SavingsAccountBalance'</a></span></li><li><span><a href=\"#'CurrentOpenLoanApplications'\" data-toc-modified-id=\"'CurrentOpenLoanApplications'-4.16\"><span class=\"toc-item-num\">4.16&nbsp;&nbsp;</span>'CurrentOpenLoanApplications'</a></span></li></ul></li><li><span><a href=\"#Modeling\" data-toc-modified-id=\"Modeling-5\"><span class=\"toc-item-num\">5&nbsp;&nbsp;</span>Modeling</a></span><ul class=\"toc-item\"><li><span><a href=\"#Imbalanced-Classes\" data-toc-modified-id=\"Imbalanced-Classes-5.1\"><span class=\"toc-item-num\">5.1&nbsp;&nbsp;</span>Imbalanced Classes</a></span></li><li><span><a href=\"#Create-train-and-test-sets\" data-toc-modified-id=\"Create-train-and-test-sets-5.2\"><span class=\"toc-item-num\">5.2&nbsp;&nbsp;</span>Create train and test sets</a></span></li><li><span><a href=\"#Model-Selection\" data-toc-modified-id=\"Model-Selection-5.3\"><span class=\"toc-item-num\">5.3&nbsp;&nbsp;</span>Model Selection</a></span><ul class=\"toc-item\"><li><span><a href=\"#DummyClassifier\" data-toc-modified-id=\"DummyClassifier-5.3.1\"><span class=\"toc-item-num\">5.3.1&nbsp;&nbsp;</span>DummyClassifier</a></span></li><li><span><a href=\"#LogisticRegression\" data-toc-modified-id=\"LogisticRegression-5.3.2\"><span class=\"toc-item-num\">5.3.2&nbsp;&nbsp;</span>LogisticRegression</a></span></li><li><span><a href=\"#GradientBoostingTrees\" data-toc-modified-id=\"GradientBoostingTrees-5.3.3\"><span class=\"toc-item-num\">5.3.3&nbsp;&nbsp;</span>GradientBoostingTrees</a></span></li></ul></li></ul></li><li><span><a href=\"#Evaluate-Generalization-Performance-Of-Best-Model\" data-toc-modified-id=\"Evaluate-Generalization-Performance-Of-Best-Model-6\"><span class=\"toc-item-num\">6&nbsp;&nbsp;</span>Evaluate Generalization Performance Of Best Model</a></span></li></ul></div>"
   ]
  },
  {
   "cell_type": "code",
   "execution_count": 133,
   "metadata": {},
   "outputs": [],
   "source": [
    "import pandas as pd\n",
    "import numpy as np\n",
    "import matplotlib.pyplot as plt\n",
    "import seaborn as sns"
   ]
  },
  {
   "cell_type": "markdown",
   "metadata": {},
   "source": [
    "# Problem Definition"
   ]
  },
  {
   "cell_type": "code",
   "execution_count": 3,
   "metadata": {},
   "outputs": [
    {
     "name": "stdout",
     "output_type": "stream",
     "text": [
      "Data Science Challenge\r\n",
      "============================\r\n",
      "\r\n",
      "Welcome to your challenge project!\r\n",
      "\r\n",
      "For this challenge, we ask that you implement a solution at home in your own time. When you're ready, please send us your code and results. We estimate that the challenge should take somewhere between 1 and 5 hours depending on your experience and speed.\r\n",
      "\r\n",
      "\r\n",
      "Motivation\r\n",
      "----------\r\n",
      "\r\n",
      "Your challenge is to gain an understanding of a small loan-application dataset so that we can double-check the work of agents making quick-fire loan determinations by text.\r\n",
      "\r\n",
      "\r\n",
      "Goals\r\n",
      "-----\r\n",
      "\r\n",
      "1. Data Understanding\r\n",
      "\r\n",
      "    · Convert the data-set into whatever format makes the most sense to you.\r\n",
      "    · Please keep track of any statistics or findings that you think are relevant to solving the problem.\r\n",
      "    · Please provide a thorough analysis of the relationships between the target and the various features and also the relationships between the important features.\r\n",
      "\r\n",
      "2. Prediction / Classification\r\n",
      "\r\n",
      "    · Based on your understanding, build a quick classifier to determine what the result should be for a new customer\r\n",
      "    · Explain your results and the reason(s) you believe your model is valid\r\n",
      "\r\n",
      "Please provide your source code and a document outlining your findings and explanations, along with the data if you significantly transformed it.\r\n",
      "\r\n",
      "\r\n",
      "Data\r\n",
      "----\r\n",
      "\r\n",
      "ds-credit: CustomerID CheckingAccountBalance DebtsPaid SavingsAccountBalance CurrentOpenLoanApplications\r\n",
      "ds-app: CustomerID LoanPayoffPeriodInMonths LoanReason RequestedAmount InterestRate Co-Applicant\r\n",
      "ds-borrower: CustomerID YearsAtCurrentEmployer YearsInCurrentResidence Age RentOrOwnHome TypeOfCurrentEmployment NumberOfDependantsIncludingSelf\r\n",
      "ds-result: CustomerID WasTheLoanApproved\r\n",
      "\r\n"
     ]
    }
   ],
   "source": [
    "cat Data\\ Science\\ Challenge.txt"
   ]
  },
  {
   "cell_type": "markdown",
   "metadata": {},
   "source": [
    "---"
   ]
  },
  {
   "cell_type": "markdown",
   "metadata": {},
   "source": [
    "---"
   ]
  },
  {
   "cell_type": "markdown",
   "metadata": {},
   "source": [
    "# Results"
   ]
  },
  {
   "cell_type": "markdown",
   "metadata": {},
   "source": [
    "Collected here are descriptions of the procedure followed bellow as well as notes on findings."
   ]
  },
  {
   "cell_type": "markdown",
   "metadata": {},
   "source": [
    "## Data Collection"
   ]
  },
  {
   "cell_type": "markdown",
   "metadata": {},
   "source": [
    "Data is pulled from all given tsv files and joined on CustomerID. Only records with CustomerIDs found accross all files are kept, resulting in 514 unique full records with no missing data."
   ]
  },
  {
   "cell_type": "markdown",
   "metadata": {},
   "source": [
    "## Feature Engineering"
   ]
  },
  {
   "cell_type": "markdown",
   "metadata": {},
   "source": [
    "From the original 16 variables, 39 new features are created. \n",
    "All original variables are transformed into categorical one-hot features except for Age and RequestedAmount.\n",
    "RequestedAmount is transformed via log as well as binned into one-hot features."
   ]
  },
  {
   "cell_type": "markdown",
   "metadata": {},
   "source": [
    "## Training and Evaluation Datasets"
   ]
  },
  {
   "cell_type": "markdown",
   "metadata": {},
   "source": [
    "Oversampling on the negative class was used to balance the dataset prior to model training. The dataset was then split into train/test sets (proportion 90/10). \n",
    "\n",
    "**NOTE**: Due to the small size of the dataset, the data resampled and the splits used may have a large effect on the results found. To compensate for this, and avoid large changes in results over runs, a random seed is used when resampling and splitting."
   ]
  },
  {
   "cell_type": "markdown",
   "metadata": {},
   "source": [
    "## Model Selection"
   ]
  },
  {
   "cell_type": "markdown",
   "metadata": {},
   "source": [
    "Two families of models were considered, Logistic Regression and Gradient Boosting Trees. Hyperparameters were tuned using 5-fold cross validation and the optimal model was selected using a combination of accuracy and ROC AUC."
   ]
  },
  {
   "cell_type": "markdown",
   "metadata": {},
   "source": [
    "## Coefficient Analysis and Feature Importance"
   ]
  },
  {
   "cell_type": "markdown",
   "metadata": {},
   "source": [
    "Looking at the coeffecients found by the Logistic Regression model, we find the most postive predictors of the target are\n",
    "\n",
    "```\n",
    " - CheckingAccountBalance_none : odds of approval are 3.8 times higher over CheckingAccountBalance_high\n",
    " - RequestedAmount_Log         : odds of approval are 3.7 times higher with an increase of 1 in log space,\n",
    " ...\n",
    "```\n",
    "\n",
    "while the least positive indicators are\n",
    "\n",
    "```\n",
    " - RequestedAmount_20000,      : odds of approval are 0.07 times lower over RequestedAmount_5000\n",
    " - LoanReason_repairs          : odds of approval are 0.07 times lower over LoanReason_goods\n",
    "```\n",
    "\n",
    "Looking at feature importances found by the Gradient Boosting Trees model and heuristically choosing a cutoff based on an elbow in the importance value we find these features to be most important for deciding loan approval:\n",
    "\n",
    "```\n",
    " - 'RequestedAmount_Log'\n",
    " - 'CheckingAccountBalance_none'\n",
    " ...\n",
    "```\n",
    "\n"
   ]
  },
  {
   "cell_type": "markdown",
   "metadata": {},
   "source": [
    "## Generalization Performance"
   ]
  },
  {
   "cell_type": "markdown",
   "metadata": {},
   "source": [
    "Accuracy of the best model found (GradientBoostedTrees, 20 trees, max depth ...) on a held-aside test set is 0.78 with balanced trade off between FP and FN (f1:0.80). \n",
    "\n",
    "Note that this performance is very sensitive to the split used. Using 10 fold cross-validation across the entire dataset, a GBT model trained using the same hyperparameters is found to have mean accuracy of 0.71 +- 0.08 and mean f1 of 0.71 +- 0.08."
   ]
  },
  {
   "cell_type": "markdown",
   "metadata": {},
   "source": [
    "---"
   ]
  },
  {
   "cell_type": "markdown",
   "metadata": {},
   "source": [
    "# Data Ingestion"
   ]
  },
  {
   "cell_type": "markdown",
   "metadata": {},
   "source": [
    "Load datasets and combine into a single dataframe, `df_combined`, joined on CustomerID.\n"
   ]
  },
  {
   "cell_type": "markdown",
   "metadata": {},
   "source": [
    "## ds-result"
   ]
  },
  {
   "cell_type": "code",
   "execution_count": 3,
   "metadata": {},
   "outputs": [],
   "source": [
    "df_result = pd.read_csv('ds-result.tsv',sep='\\s+',header=None, names='CustomerID WasTheLoanApproved'.split())"
   ]
  },
  {
   "cell_type": "code",
   "execution_count": 4,
   "metadata": {},
   "outputs": [
    {
     "name": "stdout",
     "output_type": "stream",
     "text": [
      "<class 'pandas.core.frame.DataFrame'>\n",
      "RangeIndex: 750 entries, 0 to 749\n",
      "Data columns (total 2 columns):\n",
      "CustomerID            750 non-null int64\n",
      "WasTheLoanApproved    750 non-null object\n",
      "dtypes: int64(1), object(1)\n",
      "memory usage: 11.8+ KB\n"
     ]
    }
   ],
   "source": [
    "df_result.info()"
   ]
  },
  {
   "cell_type": "code",
   "execution_count": 5,
   "metadata": {},
   "outputs": [
    {
     "name": "stdout",
     "output_type": "stream",
     "text": [
      "min CustomerID:    1\n",
      "max CustomerID:    750\n",
      "unique CustomerID: 750\n"
     ]
    }
   ],
   "source": [
    "print(f'min CustomerID:    {df_result.CustomerID.min()}')\n",
    "print(f'max CustomerID:    {df_result.CustomerID.max()}')\n",
    "print(f'unique CustomerID: {df_result.CustomerID.nunique()}')"
   ]
  },
  {
   "cell_type": "code",
   "execution_count": 6,
   "metadata": {},
   "outputs": [
    {
     "data": {
      "text/plain": [
       "Y    516\n",
       "N    233\n",
       "1      1\n",
       "Name: WasTheLoanApproved, dtype: int64"
      ]
     },
     "execution_count": 6,
     "metadata": {},
     "output_type": "execute_result"
    }
   ],
   "source": [
    "df_result.WasTheLoanApproved.value_counts()"
   ]
  },
  {
   "cell_type": "code",
   "execution_count": 7,
   "metadata": {},
   "outputs": [
    {
     "data": {
      "text/html": [
       "<div>\n",
       "<style scoped>\n",
       "    .dataframe tbody tr th:only-of-type {\n",
       "        vertical-align: middle;\n",
       "    }\n",
       "\n",
       "    .dataframe tbody tr th {\n",
       "        vertical-align: top;\n",
       "    }\n",
       "\n",
       "    .dataframe thead th {\n",
       "        text-align: right;\n",
       "    }\n",
       "</style>\n",
       "<table border=\"1\" class=\"dataframe\">\n",
       "  <thead>\n",
       "    <tr style=\"text-align: right;\">\n",
       "      <th></th>\n",
       "      <th>CustomerID</th>\n",
       "      <th>WasTheLoanApproved</th>\n",
       "    </tr>\n",
       "  </thead>\n",
       "  <tbody>\n",
       "    <tr>\n",
       "      <th>277</th>\n",
       "      <td>278</td>\n",
       "      <td>1</td>\n",
       "    </tr>\n",
       "  </tbody>\n",
       "</table>\n",
       "</div>"
      ],
      "text/plain": [
       "     CustomerID WasTheLoanApproved\n",
       "277         278                  1"
      ]
     },
     "execution_count": 7,
     "metadata": {},
     "output_type": "execute_result"
    }
   ],
   "source": [
    "# one row has a label not in Y,N\n",
    "df_result[df_result.WasTheLoanApproved == '1']"
   ]
  },
  {
   "cell_type": "code",
   "execution_count": 8,
   "metadata": {},
   "outputs": [],
   "source": [
    "# might assume that 1 = 'Y', but dropping for now\n",
    "df_result = df_result[df_result.WasTheLoanApproved != '1']"
   ]
  },
  {
   "cell_type": "code",
   "execution_count": 9,
   "metadata": {},
   "outputs": [],
   "source": [
    "# each row should have a unique CustomerID, so can use as index\n",
    "assert df_result.CustomerID.nunique() == df_result.shape[0]"
   ]
  },
  {
   "cell_type": "code",
   "execution_count": 10,
   "metadata": {},
   "outputs": [
    {
     "data": {
      "text/plain": [
       "(749, 1)"
      ]
     },
     "execution_count": 10,
     "metadata": {},
     "output_type": "execute_result"
    }
   ],
   "source": [
    "# will be joining on CustomerID, so set as index\n",
    "df_result = df_result.set_index('CustomerID')\n",
    "df_result.shape"
   ]
  },
  {
   "cell_type": "markdown",
   "metadata": {},
   "source": [
    "---"
   ]
  },
  {
   "cell_type": "markdown",
   "metadata": {},
   "source": [
    "## ds-app"
   ]
  },
  {
   "cell_type": "code",
   "execution_count": 11,
   "metadata": {},
   "outputs": [],
   "source": [
    "df_app = pd.read_csv('ds-app.tsv',delimiter='\\s+', header=None,names='CustomerID LoanPayoffPeriodInMonths LoanReason RequestedAmount InterestRate Co-Applicant'.split())\n",
    "df_app = df_app.sort_values(by='CustomerID').reset_index(drop=True)"
   ]
  },
  {
   "cell_type": "code",
   "execution_count": 12,
   "metadata": {},
   "outputs": [
    {
     "name": "stdout",
     "output_type": "stream",
     "text": [
      "<class 'pandas.core.frame.DataFrame'>\n",
      "RangeIndex: 748 entries, 0 to 747\n",
      "Data columns (total 6 columns):\n",
      "CustomerID                  748 non-null int64\n",
      "LoanPayoffPeriodInMonths    748 non-null int64\n",
      "LoanReason                  748 non-null object\n",
      "RequestedAmount             748 non-null int64\n",
      "InterestRate                748 non-null int64\n",
      "Co-Applicant                748 non-null object\n",
      "dtypes: int64(4), object(2)\n",
      "memory usage: 35.1+ KB\n"
     ]
    }
   ],
   "source": [
    "df_app.info()"
   ]
  },
  {
   "cell_type": "code",
   "execution_count": 13,
   "metadata": {},
   "outputs": [
    {
     "data": {
      "text/html": [
       "<div>\n",
       "<style scoped>\n",
       "    .dataframe tbody tr th:only-of-type {\n",
       "        vertical-align: middle;\n",
       "    }\n",
       "\n",
       "    .dataframe tbody tr th {\n",
       "        vertical-align: top;\n",
       "    }\n",
       "\n",
       "    .dataframe thead th {\n",
       "        text-align: right;\n",
       "    }\n",
       "</style>\n",
       "<table border=\"1\" class=\"dataframe\">\n",
       "  <thead>\n",
       "    <tr style=\"text-align: right;\">\n",
       "      <th></th>\n",
       "      <th>CustomerID</th>\n",
       "      <th>LoanPayoffPeriodInMonths</th>\n",
       "      <th>LoanReason</th>\n",
       "      <th>RequestedAmount</th>\n",
       "      <th>InterestRate</th>\n",
       "      <th>Co-Applicant</th>\n",
       "    </tr>\n",
       "  </thead>\n",
       "  <tbody>\n",
       "    <tr>\n",
       "      <th>0</th>\n",
       "      <td>2</td>\n",
       "      <td>9</td>\n",
       "      <td>goods</td>\n",
       "      <td>3074</td>\n",
       "      <td>1</td>\n",
       "      <td>none</td>\n",
       "    </tr>\n",
       "    <tr>\n",
       "      <th>1</th>\n",
       "      <td>3</td>\n",
       "      <td>12</td>\n",
       "      <td>auto</td>\n",
       "      <td>939</td>\n",
       "      <td>4</td>\n",
       "      <td>none</td>\n",
       "    </tr>\n",
       "    <tr>\n",
       "      <th>2</th>\n",
       "      <td>4</td>\n",
       "      <td>9</td>\n",
       "      <td>auto</td>\n",
       "      <td>2507</td>\n",
       "      <td>2</td>\n",
       "      <td>none</td>\n",
       "    </tr>\n",
       "    <tr>\n",
       "      <th>3</th>\n",
       "      <td>5</td>\n",
       "      <td>18</td>\n",
       "      <td>goods</td>\n",
       "      <td>2238</td>\n",
       "      <td>2</td>\n",
       "      <td>none</td>\n",
       "    </tr>\n",
       "    <tr>\n",
       "      <th>4</th>\n",
       "      <td>6</td>\n",
       "      <td>24</td>\n",
       "      <td>repairs</td>\n",
       "      <td>5507</td>\n",
       "      <td>3</td>\n",
       "      <td>none</td>\n",
       "    </tr>\n",
       "  </tbody>\n",
       "</table>\n",
       "</div>"
      ],
      "text/plain": [
       "   CustomerID  LoanPayoffPeriodInMonths LoanReason  RequestedAmount  \\\n",
       "0           2                         9      goods             3074   \n",
       "1           3                        12       auto              939   \n",
       "2           4                         9       auto             2507   \n",
       "3           5                        18      goods             2238   \n",
       "4           6                        24    repairs             5507   \n",
       "\n",
       "   InterestRate Co-Applicant  \n",
       "0             1         none  \n",
       "1             4         none  \n",
       "2             2         none  \n",
       "3             2         none  \n",
       "4             3         none  "
      ]
     },
     "execution_count": 13,
     "metadata": {},
     "output_type": "execute_result"
    }
   ],
   "source": [
    "df_app.head()"
   ]
  },
  {
   "cell_type": "code",
   "execution_count": 14,
   "metadata": {},
   "outputs": [
    {
     "data": {
      "text/plain": [
       "(748, 5)"
      ]
     },
     "execution_count": 14,
     "metadata": {},
     "output_type": "execute_result"
    }
   ],
   "source": [
    "assert df_app.CustomerID.nunique() == df_app.shape[0]\n",
    "df_app = df_app.set_index('CustomerID')\n",
    "df_app.shape"
   ]
  },
  {
   "cell_type": "code",
   "execution_count": 15,
   "metadata": {},
   "outputs": [
    {
     "name": "stdout",
     "output_type": "stream",
     "text": [
      "on join with df_result will retain 662 (0.884) records\n"
     ]
    }
   ],
   "source": [
    "n_overlap = df_result.index.intersection(df_app.index).shape[0]\n",
    "print(f'on join with df_result will retain {n_overlap} ({n_overlap/len(df_result):0.3f}) records')"
   ]
  },
  {
   "cell_type": "markdown",
   "metadata": {},
   "source": [
    "---\n"
   ]
  },
  {
   "cell_type": "markdown",
   "metadata": {},
   "source": [
    "## ds-borrower"
   ]
  },
  {
   "cell_type": "code",
   "execution_count": 16,
   "metadata": {},
   "outputs": [],
   "source": [
    "df_borrower = pd.read_csv('ds-borrower.tsv',\n",
    "                          sep='\\s+',\n",
    "                          names='CustomerID YearsAtCurrentEmployer YearsInCurrentResidence Age RentOrOwnHome TypeOfCurrentEmployment NumberOfDependantsIncludingSelf'.split())\n",
    "\n",
    "df_borrower = df_borrower[df_borrower.CustomerID != 'Emp'] # there are two rows that include header info\n",
    "df_borrower.CustomerID = df_borrower.CustomerID.astype(int)\n",
    "df_borrower = df_borrower.sort_values(by='CustomerID').reset_index(drop=True)"
   ]
  },
  {
   "cell_type": "markdown",
   "metadata": {},
   "source": [
    "..."
   ]
  },
  {
   "cell_type": "markdown",
   "metadata": {},
   "source": [
    "---"
   ]
  },
  {
   "cell_type": "markdown",
   "metadata": {},
   "source": [
    "## ds-credit"
   ]
  },
  {
   "cell_type": "code",
   "execution_count": 21,
   "metadata": {},
   "outputs": [],
   "source": [
    "df_credit = pd.read_csv('ds-credit.tsv',delimiter='\\s+', header=None,names='CustomerID CheckingAccountBalance DebtsPaid SavingsAccountBalance CurrentOpenLoanApplications'.split())\n",
    "df_credit = df_credit.sort_values(by='CustomerID').reset_index(drop=True)"
   ]
  },
  {
   "cell_type": "markdown",
   "metadata": {},
   "source": [
    "..."
   ]
  },
  {
   "cell_type": "markdown",
   "metadata": {},
   "source": [
    "---"
   ]
  },
  {
   "cell_type": "markdown",
   "metadata": {},
   "source": [
    "## Combine datasets"
   ]
  },
  {
   "cell_type": "code",
   "execution_count": 26,
   "metadata": {},
   "outputs": [],
   "source": [
    "df_combined = df_result.copy()"
   ]
  },
  {
   "cell_type": "code",
   "execution_count": 27,
   "metadata": {},
   "outputs": [
    {
     "name": "stdout",
     "output_type": "stream",
     "text": [
      "adding df_app, dropping 86 rows\n"
     ]
    }
   ],
   "source": [
    "print(f'adding df_app, dropping {len(df_app.index.difference(df_combined.index))} rows')\n",
    "df_combined = df_combined.join(df_app,how='inner')"
   ]
  },
  {
   "cell_type": "code",
   "execution_count": 28,
   "metadata": {},
   "outputs": [
    {
     "name": "stdout",
     "output_type": "stream",
     "text": [
      "adding df_borrower, dropping 165 rows\n"
     ]
    }
   ],
   "source": [
    "print(f'adding df_borrower, dropping {len(df_borrower.index.difference(df_combined.index))} rows')\n",
    "df_combined = df_combined.join(df_borrower,how='inner')"
   ]
  },
  {
   "cell_type": "code",
   "execution_count": 29,
   "metadata": {},
   "outputs": [
    {
     "name": "stdout",
     "output_type": "stream",
     "text": [
      "adding df_credit, dropping 235 rows\n"
     ]
    }
   ],
   "source": [
    "print(f'adding df_credit, dropping {len(df_credit.index.difference(df_combined.index))} rows')\n",
    "df_combined = df_combined.join(df_credit,how='inner')"
   ]
  },
  {
   "cell_type": "code",
   "execution_count": 30,
   "metadata": {},
   "outputs": [
    {
     "name": "stdout",
     "output_type": "stream",
     "text": [
      "<class 'pandas.core.frame.DataFrame'>\n",
      "Int64Index: 514 entries, 2 to 750\n",
      "Data columns (total 16 columns):\n",
      "WasTheLoanApproved                 514 non-null object\n",
      "LoanPayoffPeriodInMonths           514 non-null int64\n",
      "LoanReason                         514 non-null object\n",
      "RequestedAmount                    514 non-null int64\n",
      "InterestRate                       514 non-null int64\n",
      "Co-Applicant                       514 non-null object\n",
      "YearsAtCurrentEmployer             514 non-null object\n",
      "YearsInCurrentResidence            514 non-null object\n",
      "Age                                514 non-null object\n",
      "RentOrOwnHome                      514 non-null object\n",
      "TypeOfCurrentEmployment            514 non-null object\n",
      "NumberOfDependantsIncludingSelf    514 non-null float64\n",
      "CheckingAccountBalance             514 non-null object\n",
      "DebtsPaid                          514 non-null object\n",
      "SavingsAccountBalance              514 non-null object\n",
      "CurrentOpenLoanApplications        514 non-null int64\n",
      "dtypes: float64(1), int64(4), object(11)\n",
      "memory usage: 68.3+ KB\n"
     ]
    }
   ],
   "source": [
    "df_combined.info()"
   ]
  },
  {
   "cell_type": "code",
   "execution_count": 31,
   "metadata": {},
   "outputs": [
    {
     "data": {
      "text/html": [
       "<div>\n",
       "<style scoped>\n",
       "    .dataframe tbody tr th:only-of-type {\n",
       "        vertical-align: middle;\n",
       "    }\n",
       "\n",
       "    .dataframe tbody tr th {\n",
       "        vertical-align: top;\n",
       "    }\n",
       "\n",
       "    .dataframe thead th {\n",
       "        text-align: right;\n",
       "    }\n",
       "</style>\n",
       "<table border=\"1\" class=\"dataframe\">\n",
       "  <thead>\n",
       "    <tr style=\"text-align: right;\">\n",
       "      <th></th>\n",
       "      <th>WasTheLoanApproved</th>\n",
       "      <th>LoanPayoffPeriodInMonths</th>\n",
       "      <th>LoanReason</th>\n",
       "      <th>RequestedAmount</th>\n",
       "      <th>InterestRate</th>\n",
       "      <th>Co-Applicant</th>\n",
       "      <th>YearsAtCurrentEmployer</th>\n",
       "      <th>YearsInCurrentResidence</th>\n",
       "      <th>Age</th>\n",
       "      <th>RentOrOwnHome</th>\n",
       "      <th>TypeOfCurrentEmployment</th>\n",
       "      <th>NumberOfDependantsIncludingSelf</th>\n",
       "      <th>CheckingAccountBalance</th>\n",
       "      <th>DebtsPaid</th>\n",
       "      <th>SavingsAccountBalance</th>\n",
       "      <th>CurrentOpenLoanApplications</th>\n",
       "    </tr>\n",
       "    <tr>\n",
       "      <th>CustomerID</th>\n",
       "      <th></th>\n",
       "      <th></th>\n",
       "      <th></th>\n",
       "      <th></th>\n",
       "      <th></th>\n",
       "      <th></th>\n",
       "      <th></th>\n",
       "      <th></th>\n",
       "      <th></th>\n",
       "      <th></th>\n",
       "      <th></th>\n",
       "      <th></th>\n",
       "      <th></th>\n",
       "      <th></th>\n",
       "      <th></th>\n",
       "      <th></th>\n",
       "    </tr>\n",
       "  </thead>\n",
       "  <tbody>\n",
       "    <tr>\n",
       "      <th>2</th>\n",
       "      <td>Y</td>\n",
       "      <td>9</td>\n",
       "      <td>goods</td>\n",
       "      <td>3074</td>\n",
       "      <td>1</td>\n",
       "      <td>none</td>\n",
       "      <td>4</td>\n",
       "      <td>2</td>\n",
       "      <td>33</td>\n",
       "      <td>owned</td>\n",
       "      <td>skilled</td>\n",
       "      <td>2.0</td>\n",
       "      <td>none</td>\n",
       "      <td>delayed</td>\n",
       "      <td>none</td>\n",
       "      <td>2</td>\n",
       "    </tr>\n",
       "    <tr>\n",
       "      <th>3</th>\n",
       "      <td>N</td>\n",
       "      <td>12</td>\n",
       "      <td>auto</td>\n",
       "      <td>939</td>\n",
       "      <td>4</td>\n",
       "      <td>none</td>\n",
       "      <td>7</td>\n",
       "      <td>2</td>\n",
       "      <td>28</td>\n",
       "      <td>owned</td>\n",
       "      <td>skilled</td>\n",
       "      <td>1.0</td>\n",
       "      <td>high</td>\n",
       "      <td>delayed</td>\n",
       "      <td>high</td>\n",
       "      <td>3</td>\n",
       "    </tr>\n",
       "    <tr>\n",
       "      <th>4</th>\n",
       "      <td>Y</td>\n",
       "      <td>9</td>\n",
       "      <td>auto</td>\n",
       "      <td>2507</td>\n",
       "      <td>2</td>\n",
       "      <td>none</td>\n",
       "      <td>10+</td>\n",
       "      <td>4</td>\n",
       "      <td>51</td>\n",
       "      <td>free</td>\n",
       "      <td>unskill</td>\n",
       "      <td>1.0</td>\n",
       "      <td>none</td>\n",
       "      <td>paid</td>\n",
       "      <td>high</td>\n",
       "      <td>1</td>\n",
       "    </tr>\n",
       "    <tr>\n",
       "      <th>5</th>\n",
       "      <td>Y</td>\n",
       "      <td>18</td>\n",
       "      <td>goods</td>\n",
       "      <td>2238</td>\n",
       "      <td>2</td>\n",
       "      <td>none</td>\n",
       "      <td>4</td>\n",
       "      <td>1</td>\n",
       "      <td>25</td>\n",
       "      <td>owned</td>\n",
       "      <td>skilled</td>\n",
       "      <td>1.0</td>\n",
       "      <td>none</td>\n",
       "      <td>delayed</td>\n",
       "      <td>some</td>\n",
       "      <td>2</td>\n",
       "    </tr>\n",
       "    <tr>\n",
       "      <th>6</th>\n",
       "      <td>Y</td>\n",
       "      <td>24</td>\n",
       "      <td>repairs</td>\n",
       "      <td>5507</td>\n",
       "      <td>3</td>\n",
       "      <td>none</td>\n",
       "      <td>10+</td>\n",
       "      <td>4</td>\n",
       "      <td>44</td>\n",
       "      <td>free</td>\n",
       "      <td>skilled</td>\n",
       "      <td>1.0</td>\n",
       "      <td>none</td>\n",
       "      <td>delayed</td>\n",
       "      <td>some</td>\n",
       "      <td>2</td>\n",
       "    </tr>\n",
       "  </tbody>\n",
       "</table>\n",
       "</div>"
      ],
      "text/plain": [
       "           WasTheLoanApproved  LoanPayoffPeriodInMonths LoanReason  \\\n",
       "CustomerID                                                           \n",
       "2                           Y                         9      goods   \n",
       "3                           N                        12       auto   \n",
       "4                           Y                         9       auto   \n",
       "5                           Y                        18      goods   \n",
       "6                           Y                        24    repairs   \n",
       "\n",
       "            RequestedAmount  InterestRate Co-Applicant YearsAtCurrentEmployer  \\\n",
       "CustomerID                                                                      \n",
       "2                      3074             1         none                      4   \n",
       "3                       939             4         none                      7   \n",
       "4                      2507             2         none                    10+   \n",
       "5                      2238             2         none                      4   \n",
       "6                      5507             3         none                    10+   \n",
       "\n",
       "           YearsInCurrentResidence Age RentOrOwnHome TypeOfCurrentEmployment  \\\n",
       "CustomerID                                                                     \n",
       "2                                2  33         owned                 skilled   \n",
       "3                                2  28         owned                 skilled   \n",
       "4                                4  51          free                 unskill   \n",
       "5                                1  25         owned                 skilled   \n",
       "6                                4  44          free                 skilled   \n",
       "\n",
       "            NumberOfDependantsIncludingSelf CheckingAccountBalance DebtsPaid  \\\n",
       "CustomerID                                                                     \n",
       "2                                       2.0                   none   delayed   \n",
       "3                                       1.0                   high   delayed   \n",
       "4                                       1.0                   none      paid   \n",
       "5                                       1.0                   none   delayed   \n",
       "6                                       1.0                   none   delayed   \n",
       "\n",
       "           SavingsAccountBalance  CurrentOpenLoanApplications  \n",
       "CustomerID                                                     \n",
       "2                           none                            2  \n",
       "3                           high                            3  \n",
       "4                           high                            1  \n",
       "5                           some                            2  \n",
       "6                           some                            2  "
      ]
     },
     "execution_count": 31,
     "metadata": {},
     "output_type": "execute_result"
    }
   ],
   "source": [
    "df_combined.head()"
   ]
  },
  {
   "cell_type": "markdown",
   "metadata": {},
   "source": [
    "---"
   ]
  },
  {
   "cell_type": "markdown",
   "metadata": {},
   "source": [
    "# Feature Engineering"
   ]
  },
  {
   "cell_type": "markdown",
   "metadata": {},
   "source": [
    "Transform data into features for use in training the model and save as `df_feat`."
   ]
  },
  {
   "cell_type": "code",
   "execution_count": 32,
   "metadata": {},
   "outputs": [],
   "source": [
    "df_feat = pd.DataFrame()"
   ]
  },
  {
   "cell_type": "code",
   "execution_count": 33,
   "metadata": {},
   "outputs": [],
   "source": [
    "def calc_py1_pergroup(x):\n",
    "    return sum(x.WasTheLoanApproved == 'Y')/len(x) if len(x) != 0 else 0"
   ]
  },
  {
   "cell_type": "markdown",
   "metadata": {},
   "source": [
    "---"
   ]
  },
  {
   "cell_type": "markdown",
   "metadata": {},
   "source": [
    "## 'WasTheLoanApproved'\n"
   ]
  },
  {
   "cell_type": "code",
   "execution_count": 34,
   "metadata": {},
   "outputs": [
    {
     "data": {
      "image/png": "[encoded data removed]",
      "text/plain": [
       "<Figure size 432x288 with 1 Axes>"
      ]
     },
     "metadata": {
      "needs_background": "light"
     },
     "output_type": "display_data"
    }
   ],
   "source": [
    "ax = (df_combined.WasTheLoanApproved.value_counts() / len(df_combined)).plot.bar();\n",
    "ax.set_ylabel('Prop WasTheLoanApproved');\n",
    "ax.set_title('Label Proportions');"
   ]
  },
  {
   "cell_type": "markdown",
   "metadata": {},
   "source": [
    "The classes are imbalanced. Will want to correct for this through weighting or sampling."
   ]
  },
  {
   "cell_type": "code",
   "execution_count": 35,
   "metadata": {},
   "outputs": [
    {
     "name": "stdout",
     "output_type": "stream",
     "text": [
      "P(WasTheLoanApproved = Y) : 0.675\n"
     ]
    }
   ],
   "source": [
    "print(f\"P(WasTheLoanApproved = Y) : {sum(df_combined.WasTheLoanApproved == 'Y') / len(df_combined):0.3f}\")"
   ]
  },
  {
   "cell_type": "markdown",
   "metadata": {},
   "source": [
    "Mapping the target to 0,1"
   ]
  },
  {
   "cell_type": "code",
   "execution_count": 36,
   "metadata": {},
   "outputs": [],
   "source": [
    "df_feat['WasTheLoanApproved'] = df_combined.WasTheLoanApproved.map({'Y':1,'N':0})"
   ]
  },
  {
   "cell_type": "markdown",
   "metadata": {},
   "source": [
    "---"
   ]
  },
  {
   "cell_type": "markdown",
   "metadata": {},
   "source": [
    "## 'LoanPayoffPeriodInMonths'"
   ]
  },
  {
   "cell_type": "code",
   "execution_count": 37,
   "metadata": {},
   "outputs": [
    {
     "data": {
      "text/plain": [
       "count    514.000000\n",
       "mean      21.517510\n",
       "std       12.571537\n",
       "min        4.000000\n",
       "25%       12.000000\n",
       "50%       18.000000\n",
       "75%       25.500000\n",
       "max       60.000000\n",
       "Name: LoanPayoffPeriodInMonths, dtype: float64"
      ]
     },
     "execution_count": 37,
     "metadata": {},
     "output_type": "execute_result"
    }
   ],
   "source": [
    "df_combined.LoanPayoffPeriodInMonths.describe()"
   ]
  },
  {
   "cell_type": "code",
   "execution_count": 38,
   "metadata": {},
   "outputs": [
    {
     "data": {
      "image/png": "[encoded data removed]",
      "text/plain": [
       "<Figure size 1008x360 with 2 Axes>"
      ]
     },
     "metadata": {
      "needs_background": "light"
     },
     "output_type": "display_data"
    }
   ],
   "source": [
    "fig,ax = plt.subplots(1,2,figsize=(14,5))\n",
    "sns.boxplot(df_combined.LoanPayoffPeriodInMonths,ax=ax[0]);\n",
    "df_combined.LoanPayoffPeriodInMonths.plot.hist(bins=50,ax=ax[1]);"
   ]
  },
  {
   "cell_type": "code",
   "execution_count": 39,
   "metadata": {},
   "outputs": [
    {
     "data": {
      "image/png": "[encoded data removed]",
      "text/plain": [
       "<Figure size 360x360 with 1 Axes>"
      ]
     },
     "metadata": {
      "needs_background": "light"
     },
     "output_type": "display_data"
    }
   ],
   "source": [
    "sns.catplot(x='LoanPayoffPeriodInMonths',y='WasTheLoanApproved',data=df_combined,kind='violin');"
   ]
  },
  {
   "cell_type": "code",
   "execution_count": 40,
   "metadata": {},
   "outputs": [
    {
     "name": "stdout",
     "output_type": "stream",
     "text": [
      "There is a decrease from 0.72 to 0.53 for a loan payoff greater than 2 years.\n"
     ]
    }
   ],
   "source": [
    "py1_lte2ypo = sum((df_combined.LoanPayoffPeriodInMonths <= 24) & (df_combined.WasTheLoanApproved == 'Y')) / sum(df_combined.LoanPayoffPeriodInMonths <= 24)\n",
    "py1_gt2ypo  = sum((df_combined.LoanPayoffPeriodInMonths >  24) & (df_combined.WasTheLoanApproved == 'Y')) / sum(df_combined.LoanPayoffPeriodInMonths >  24)\n",
    "print(f'There is a decrease from {py1_lte2ypo:0.2f} to {py1_gt2ypo:0.2f} for a loan payoff greater than 2 years.')"
   ]
  },
  {
   "cell_type": "code",
   "execution_count": 41,
   "metadata": {},
   "outputs": [
    {
     "data": {
      "text/plain": [
       "2    201\n",
       "1    184\n",
       "3     74\n",
       "4     45\n",
       "5     10\n",
       "Name: LoanPayoffPeriodByYear, dtype: int64"
      ]
     },
     "execution_count": 41,
     "metadata": {},
     "output_type": "execute_result"
    }
   ],
   "source": [
    "df_combined['LoanPayoffPeriodByYear'] = pd.cut(df_combined.LoanPayoffPeriodInMonths,range(0,61,12))\n",
    "df_combined['LoanPayoffPeriodByYear'] = df_combined.LoanPayoffPeriodByYear.cat.rename_categories([1,2,3,4,5])\n",
    "df_combined['LoanPayoffPeriodByYear'].value_counts()"
   ]
  },
  {
   "cell_type": "code",
   "execution_count": 42,
   "metadata": {},
   "outputs": [
    {
     "data": {
      "image/png": "[encoded data removed]",
      "text/plain": [
       "<Figure size 432x288 with 1 Axes>"
      ]
     },
     "metadata": {
      "needs_background": "light"
     },
     "output_type": "display_data"
    }
   ],
   "source": [
    "tmp = df_combined.groupby('LoanPayoffPeriodByYear').apply(calc_py1_pergroup)\n",
    "ax = tmp.plot(marker='x');\n",
    "ax.set_ylabel('p(y=1|x)');"
   ]
  },
  {
   "cell_type": "code",
   "execution_count": 43,
   "metadata": {},
   "outputs": [],
   "source": [
    "df_feat['LoanPayoffPeriodInMonths_5yrs'] = df_combined.LoanPayoffPeriodInMonths / 60"
   ]
  },
  {
   "cell_type": "code",
   "execution_count": 44,
   "metadata": {},
   "outputs": [],
   "source": [
    "df_feat = df_feat.join(pd.get_dummies(df_combined.LoanPayoffPeriodByYear, prefix='LoanPayoffPeriodByYear',drop_first=True))"
   ]
  },
  {
   "cell_type": "markdown",
   "metadata": {},
   "source": [
    "---"
   ]
  },
  {
   "cell_type": "markdown",
   "metadata": {},
   "source": [
    "## 'LoanReason'"
   ]
  },
  {
   "cell_type": "code",
   "execution_count": 45,
   "metadata": {},
   "outputs": [
    {
     "data": {
      "text/plain": [
       "goods      231\n",
       "auto       175\n",
       "busin       58\n",
       "school      34\n",
       "repairs      9\n",
       "other        7\n",
       "Name: LoanReason, dtype: int64"
      ]
     },
     "execution_count": 45,
     "metadata": {},
     "output_type": "execute_result"
    }
   ],
   "source": [
    "df_combined.LoanReason.value_counts()"
   ]
  },
  {
   "cell_type": "code",
   "execution_count": 46,
   "metadata": {},
   "outputs": [
    {
     "data": {
      "text/plain": [
       "LoanReason\n",
       "goods      0.740260\n",
       "other      0.714286\n",
       "auto       0.651429\n",
       "school     0.588235\n",
       "repairs    0.555556\n",
       "busin      0.551724\n",
       "dtype: float64"
      ]
     },
     "execution_count": 46,
     "metadata": {},
     "output_type": "execute_result"
    }
   ],
   "source": [
    "df_combined.groupby('LoanReason').apply(calc_py1_pergroup).sort_values(ascending=False)"
   ]
  },
  {
   "cell_type": "code",
   "execution_count": 47,
   "metadata": {},
   "outputs": [
    {
     "data": {
      "text/html": [
       "<div>\n",
       "<style scoped>\n",
       "    .dataframe tbody tr th:only-of-type {\n",
       "        vertical-align: middle;\n",
       "    }\n",
       "\n",
       "    .dataframe tbody tr th {\n",
       "        vertical-align: top;\n",
       "    }\n",
       "\n",
       "    .dataframe thead th {\n",
       "        text-align: right;\n",
       "    }\n",
       "</style>\n",
       "<table border=\"1\" class=\"dataframe\">\n",
       "  <thead>\n",
       "    <tr style=\"text-align: right;\">\n",
       "      <th></th>\n",
       "      <th>LoanReason_auto</th>\n",
       "      <th>LoanReason_busin</th>\n",
       "      <th>LoanReason_goods</th>\n",
       "      <th>LoanReason_repairs</th>\n",
       "      <th>LoanReason_school</th>\n",
       "    </tr>\n",
       "    <tr>\n",
       "      <th>CustomerID</th>\n",
       "      <th></th>\n",
       "      <th></th>\n",
       "      <th></th>\n",
       "      <th></th>\n",
       "      <th></th>\n",
       "    </tr>\n",
       "  </thead>\n",
       "  <tbody>\n",
       "    <tr>\n",
       "      <th>2</th>\n",
       "      <td>0</td>\n",
       "      <td>0</td>\n",
       "      <td>1</td>\n",
       "      <td>0</td>\n",
       "      <td>0</td>\n",
       "    </tr>\n",
       "    <tr>\n",
       "      <th>3</th>\n",
       "      <td>1</td>\n",
       "      <td>0</td>\n",
       "      <td>0</td>\n",
       "      <td>0</td>\n",
       "      <td>0</td>\n",
       "    </tr>\n",
       "    <tr>\n",
       "      <th>4</th>\n",
       "      <td>1</td>\n",
       "      <td>0</td>\n",
       "      <td>0</td>\n",
       "      <td>0</td>\n",
       "      <td>0</td>\n",
       "    </tr>\n",
       "    <tr>\n",
       "      <th>5</th>\n",
       "      <td>0</td>\n",
       "      <td>0</td>\n",
       "      <td>1</td>\n",
       "      <td>0</td>\n",
       "      <td>0</td>\n",
       "    </tr>\n",
       "    <tr>\n",
       "      <th>6</th>\n",
       "      <td>0</td>\n",
       "      <td>0</td>\n",
       "      <td>0</td>\n",
       "      <td>1</td>\n",
       "      <td>0</td>\n",
       "    </tr>\n",
       "  </tbody>\n",
       "</table>\n",
       "</div>"
      ],
      "text/plain": [
       "            LoanReason_auto  LoanReason_busin  LoanReason_goods  \\\n",
       "CustomerID                                                        \n",
       "2                         0                 0                 1   \n",
       "3                         1                 0                 0   \n",
       "4                         1                 0                 0   \n",
       "5                         0                 0                 1   \n",
       "6                         0                 0                 0   \n",
       "\n",
       "            LoanReason_repairs  LoanReason_school  \n",
       "CustomerID                                         \n",
       "2                            0                  0  \n",
       "3                            0                  0  \n",
       "4                            0                  0  \n",
       "5                            0                  0  \n",
       "6                            1                  0  "
      ]
     },
     "execution_count": 47,
     "metadata": {},
     "output_type": "execute_result"
    }
   ],
   "source": [
    "lr = pd.get_dummies(df_combined.LoanReason,prefix='LoanReason').drop('LoanReason_other',axis=1)\n",
    "lr.head()"
   ]
  },
  {
   "cell_type": "code",
   "execution_count": 48,
   "metadata": {},
   "outputs": [
    {
     "data": {
      "text/plain": [
       "(514, 11)"
      ]
     },
     "execution_count": 48,
     "metadata": {},
     "output_type": "execute_result"
    }
   ],
   "source": [
    "df_feat = df_feat.join(lr)\n",
    "df_feat.shape"
   ]
  },
  {
   "cell_type": "markdown",
   "metadata": {},
   "source": [
    "---"
   ]
  },
  {
   "cell_type": "markdown",
   "metadata": {},
   "source": [
    "## 'RequestedAmount'"
   ]
  },
  {
   "cell_type": "code",
   "execution_count": 49,
   "metadata": {},
   "outputs": [
    {
     "data": {
      "text/plain": [
       "count      514.000000\n",
       "mean      3363.108949\n",
       "std       3002.262744\n",
       "min        276.000000\n",
       "25%       1367.250000\n",
       "50%       2335.000000\n",
       "75%       4127.500000\n",
       "max      18424.000000\n",
       "Name: RequestedAmount, dtype: float64"
      ]
     },
     "execution_count": 49,
     "metadata": {},
     "output_type": "execute_result"
    }
   ],
   "source": [
    "df_combined.RequestedAmount.describe()"
   ]
  },
  {
   "cell_type": "code",
   "execution_count": 50,
   "metadata": {},
   "outputs": [
    {
     "data": {
      "image/png": "[encoded data removed]",
      "text/plain": [
       "<Figure size 432x288 with 1 Axes>"
      ]
     },
     "metadata": {
      "needs_background": "light"
     },
     "output_type": "display_data"
    }
   ],
   "source": [
    "sns.distplot(df_combined.RequestedAmount,rug=True);"
   ]
  },
  {
   "cell_type": "code",
   "execution_count": 51,
   "metadata": {},
   "outputs": [
    {
     "data": {
      "image/png": "[encoded data removed]",
      "text/plain": [
       "<Figure size 432x288 with 1 Axes>"
      ]
     },
     "metadata": {
      "needs_background": "light"
     },
     "output_type": "display_data"
    }
   ],
   "source": [
    "sns.distplot(df_combined.RequestedAmount.apply(np.log));"
   ]
  },
  {
   "cell_type": "code",
   "execution_count": 52,
   "metadata": {},
   "outputs": [
    {
     "data": {
      "text/plain": [
       "count    514.000000\n",
       "mean       7.797670\n",
       "std        0.798878\n",
       "min        5.620401\n",
       "25%        7.220555\n",
       "50%        7.755767\n",
       "75%        8.325378\n",
       "max        9.821409\n",
       "Name: RequestedAmount, dtype: float64"
      ]
     },
     "execution_count": 52,
     "metadata": {},
     "output_type": "execute_result"
    }
   ],
   "source": [
    "df_combined.RequestedAmount.apply(np.log).describe()"
   ]
  },
  {
   "cell_type": "code",
   "execution_count": 53,
   "metadata": {},
   "outputs": [
    {
     "data": {
      "image/png": "[encoded data removed]",
      "text/plain": [
       "<Figure size 360x360 with 1 Axes>"
      ]
     },
     "metadata": {
      "needs_background": "light"
     },
     "output_type": "display_data"
    }
   ],
   "source": [
    "sns.catplot(x='RequestedAmount',y='WasTheLoanApproved',data=df_combined,inner='quart',kind='violin',);"
   ]
  },
  {
   "cell_type": "code",
   "execution_count": 54,
   "metadata": {},
   "outputs": [
    {
     "data": {
      "image/png": "[encoded data removed]",
      "text/plain": [
       "<Figure size 432x288 with 1 Axes>"
      ]
     },
     "metadata": {
      "needs_background": "light"
     },
     "output_type": "display_data"
    }
   ],
   "source": [
    "sns.distplot(df_combined[df_combined.WasTheLoanApproved == 'Y'].RequestedAmount);\n",
    "sns.distplot(df_combined[df_combined.WasTheLoanApproved == 'N'].RequestedAmount);"
   ]
  },
  {
   "cell_type": "code",
   "execution_count": 55,
   "metadata": {},
   "outputs": [
    {
     "data": {
      "text/plain": [
       "RequestedAmount\n",
       "(0, 5000]         0.716707\n",
       "(5000, 10000]     0.576923\n",
       "(10000, 20000]    0.260870\n",
       "dtype: float64"
      ]
     },
     "execution_count": 55,
     "metadata": {},
     "output_type": "execute_result"
    }
   ],
   "source": [
    "df_combined.groupby(pd.cut(df_combined.RequestedAmount,[0,5000,10000,20000])).apply(calc_py1_pergroup)"
   ]
  },
  {
   "cell_type": "code",
   "execution_count": 56,
   "metadata": {},
   "outputs": [
    {
     "data": {
      "text/plain": [
       "5000     413\n",
       "10000     78\n",
       "20000     23\n",
       "Name: RequestedAmount_binned, dtype: int64"
      ]
     },
     "execution_count": 56,
     "metadata": {},
     "output_type": "execute_result"
    }
   ],
   "source": [
    "df_combined['RequestedAmount_binned'] = pd.cut(df_combined.RequestedAmount,[0,5000,10000,20000])\n",
    "df_combined['RequestedAmount_binned'] = df_combined['RequestedAmount_binned'].cat.rename_categories([5000,10000,20000])\n",
    "df_combined['RequestedAmount_binned'].value_counts()"
   ]
  },
  {
   "cell_type": "code",
   "execution_count": 57,
   "metadata": {},
   "outputs": [
    {
     "data": {
      "text/plain": [
       "(514, 13)"
      ]
     },
     "execution_count": 57,
     "metadata": {},
     "output_type": "execute_result"
    }
   ],
   "source": [
    "df_feat = df_feat.join(pd.get_dummies(df_combined.RequestedAmount_binned,prefix='RequestedAmount',drop_first=True))\n",
    "df_feat.shape"
   ]
  },
  {
   "cell_type": "code",
   "execution_count": 58,
   "metadata": {},
   "outputs": [
    {
     "data": {
      "text/plain": [
       "<matplotlib.axes._subplots.AxesSubplot at 0x7fdc68e65a90>"
      ]
     },
     "execution_count": 58,
     "metadata": {},
     "output_type": "execute_result"
    },
    {
     "data": {
      "image/png": "[encoded data removed]",
      "text/plain": [
       "<Figure size 432x288 with 1 Axes>"
      ]
     },
     "metadata": {
      "needs_background": "light"
     },
     "output_type": "display_data"
    }
   ],
   "source": [
    "tmp = df_combined.RequestedAmount.apply(np.log)\n",
    "tmp = tmp - tmp.min()\n",
    "tmp = tmp / tmp.max()\n",
    "tmp.plot.hist()"
   ]
  },
  {
   "cell_type": "code",
   "execution_count": 59,
   "metadata": {},
   "outputs": [
    {
     "data": {
      "text/plain": [
       "(514, 14)"
      ]
     },
     "execution_count": 59,
     "metadata": {},
     "output_type": "execute_result"
    }
   ],
   "source": [
    "df_feat['RequestedAmount_Log'] = tmp\n",
    "df_feat.shape"
   ]
  },
  {
   "cell_type": "markdown",
   "metadata": {},
   "source": [
    "---"
   ]
  },
  {
   "cell_type": "markdown",
   "metadata": {},
   "source": [
    "..."
   ]
  },
  {
   "cell_type": "markdown",
   "metadata": {},
   "source": [
    "---"
   ]
  },
  {
   "cell_type": "markdown",
   "metadata": {},
   "source": [
    "# Modeling"
   ]
  },
  {
   "cell_type": "code",
   "execution_count": 101,
   "metadata": {},
   "outputs": [],
   "source": [
    "from imblearn.over_sampling import RandomOverSampler\n",
    "from sklearn.linear_model import LogisticRegression,LogisticRegressionCV\n",
    "from sklearn.ensemble import RandomForestClassifier,GradientBoostingClassifier\n",
    "from sklearn.model_selection import train_test_split\n",
    "from sklearn.feature_selection import SelectKBest\n",
    "from sklearn.model_selection import cross_val_score, GridSearchCV\n",
    "from sklearn.metrics import confusion_matrix, f1_score, roc_auc_score, roc_curve\n",
    "from mlxtend.plotting import plot_confusion_matrix\n",
    "from sklearn.dummy import DummyClassifier"
   ]
  },
  {
   "cell_type": "code",
   "execution_count": 102,
   "metadata": {},
   "outputs": [],
   "source": [
    "RANDOM_SEED = 123"
   ]
  },
  {
   "cell_type": "markdown",
   "metadata": {},
   "source": [
    "## Imbalanced Classes"
   ]
  },
  {
   "cell_type": "markdown",
   "metadata": {},
   "source": [
    "Oversample to balance classes as the dataset is not large. "
   ]
  },
  {
   "cell_type": "code",
   "execution_count": 103,
   "metadata": {},
   "outputs": [
    {
     "name": "stdout",
     "output_type": "stream",
     "text": [
      "Original P(y=1) : 0.68\n"
     ]
    }
   ],
   "source": [
    "X,y = df_feat.iloc[:,1:],df_feat.iloc[:,0]\n",
    "print(f'Original P(y=1) : {sum(y == 1) / len(y):0.2f}')"
   ]
  },
  {
   "cell_type": "code",
   "execution_count": 104,
   "metadata": {},
   "outputs": [
    {
     "name": "stdout",
     "output_type": "stream",
     "text": [
      "Resampled P(y=1) : 0.50\n"
     ]
    }
   ],
   "source": [
    "X_resampled,y_resampled = RandomOverSampler(random_state=RANDOM_SEED).fit_resample(X,y)\n",
    "print(f'Resampled P(y=1) : {sum(y_resampled == 1) / len(y_resampled):0.2f}')"
   ]
  },
  {
   "cell_type": "markdown",
   "metadata": {},
   "source": [
    "## Create train and test sets"
   ]
  },
  {
   "cell_type": "markdown",
   "metadata": {},
   "source": [
    "Hold aside a small test set to measure generalization performance after model selection and training."
   ]
  },
  {
   "cell_type": "code",
   "execution_count": 105,
   "metadata": {},
   "outputs": [
    {
     "data": {
      "text/plain": [
       "(694, 625, 69)"
      ]
     },
     "execution_count": 105,
     "metadata": {},
     "output_type": "execute_result"
    }
   ],
   "source": [
    "train_size = int(len(X_resampled)*.9)+1\n",
    "test_size = int(len(X_resampled)*.1)\n",
    "len(X_resampled),train_size,test_size"
   ]
  },
  {
   "cell_type": "code",
   "execution_count": 106,
   "metadata": {},
   "outputs": [],
   "source": [
    "X_train,X_test,y_train,y_test = train_test_split(X_resampled,y_resampled,test_size=test_size,random_state=RANDOM_SEED)"
   ]
  },
  {
   "cell_type": "code",
   "execution_count": 107,
   "metadata": {},
   "outputs": [
    {
     "data": {
      "text/plain": [
       "((625, 39), (69, 39))"
      ]
     },
     "execution_count": 107,
     "metadata": {},
     "output_type": "execute_result"
    }
   ],
   "source": [
    "X_train.shape, X_test.shape"
   ]
  },
  {
   "cell_type": "markdown",
   "metadata": {},
   "source": [
    "## Model Selection"
   ]
  },
  {
   "cell_type": "markdown",
   "metadata": {},
   "source": [
    "### DummyClassifier"
   ]
  },
  {
   "cell_type": "markdown",
   "metadata": {},
   "source": [
    "First, check that best cv score on dummy classifier is near class proportions."
   ]
  },
  {
   "cell_type": "code",
   "execution_count": 108,
   "metadata": {},
   "outputs": [
    {
     "data": {
      "text/plain": [
       "GridSearchCV(cv=5, error_score='raise-deprecating',\n",
       "             estimator=DummyClassifier(constant=None, random_state=None,\n",
       "                                       strategy='stratified'),\n",
       "             iid=False, n_jobs=-1, param_grid={}, pre_dispatch='2*n_jobs',\n",
       "             refit=True, return_train_score=False, scoring=None, verbose=0)"
      ]
     },
     "execution_count": 108,
     "metadata": {},
     "output_type": "execute_result"
    }
   ],
   "source": [
    "dummy_gs = GridSearchCV(DummyClassifier(),{},cv=5,iid=False,n_jobs=-1)\n",
    "dummy_gs.fit(X_train,y_train)"
   ]
  },
  {
   "cell_type": "code",
   "execution_count": 109,
   "metadata": {},
   "outputs": [
    {
     "data": {
      "text/plain": [
       "0.496"
      ]
     },
     "execution_count": 109,
     "metadata": {},
     "output_type": "execute_result"
    }
   ],
   "source": [
    "dummy_gs.best_score_"
   ]
  },
  {
   "cell_type": "markdown",
   "metadata": {},
   "source": [
    "### LogisticRegression"
   ]
  },
  {
   "cell_type": "markdown",
   "metadata": {},
   "source": [
    "Model using logistic regression. Use 5 fold cv to select a regularization method and level."
   ]
  },
  {
   "cell_type": "code",
   "execution_count": 110,
   "metadata": {},
   "outputs": [
    {
     "data": {
      "text/plain": [
       "GridSearchCV(cv=5, error_score='raise-deprecating',\n",
       "             estimator=LogisticRegression(C=1.0, class_weight=None, dual=False,\n",
       "                                          fit_intercept=True,\n",
       "                                          intercept_scaling=1, l1_ratio=None,\n",
       "                                          max_iter=1000, multi_class='warn',\n",
       "                                          n_jobs=None, penalty='l2',\n",
       "                                          random_state=None, solver='saga',\n",
       "                                          tol=0.0001, verbose=0,\n",
       "                                          warm_start=False),\n",
       "             iid=False, n_jobs=-1,\n",
       "             param_grid={'C': [0.01, 0.1, 1, 10], 'penalty': ['l1', 'l2']},\n",
       "             pre_dispatch='2*n_jobs', refit=True, return_train_score=False,\n",
       "             scoring=None, verbose=0)"
      ]
     },
     "execution_count": 110,
     "metadata": {},
     "output_type": "execute_result"
    }
   ],
   "source": [
    "params = {'C':[0.01,.1,1,10],'penalty':['l1','l2']}\n",
    "lr_gs = GridSearchCV(LogisticRegression(solver='saga',max_iter=1000),params,cv=5,iid=False,n_jobs=-1)\n",
    "lr_gs.fit(X_train,y_train)"
   ]
  },
  {
   "cell_type": "code",
   "execution_count": 111,
   "metadata": {},
   "outputs": [
    {
     "data": {
      "text/plain": [
       "{'C': 10, 'penalty': 'l2'}"
      ]
     },
     "execution_count": 111,
     "metadata": {},
     "output_type": "execute_result"
    }
   ],
   "source": [
    "lr_gs.best_params_"
   ]
  },
  {
   "cell_type": "markdown",
   "metadata": {},
   "source": [
    "Best score is greater than dummy classifier."
   ]
  },
  {
   "cell_type": "code",
   "execution_count": 112,
   "metadata": {},
   "outputs": [
    {
     "data": {
      "text/plain": [
       "0.728"
      ]
     },
     "execution_count": 112,
     "metadata": {},
     "output_type": "execute_result"
    }
   ],
   "source": [
    "lr_gs.best_score_"
   ]
  },
  {
   "cell_type": "markdown",
   "metadata": {},
   "source": [
    "Confusion matrix shows equal tradeoff between false negative and false positive."
   ]
  },
  {
   "cell_type": "code",
   "execution_count": 113,
   "metadata": {},
   "outputs": [
    {
     "data": {
      "image/png": "[encoded data removed]",
      "text/plain": [
       "<Figure size 432x288 with 1 Axes>"
      ]
     },
     "metadata": {
      "needs_background": "light"
     },
     "output_type": "display_data"
    }
   ],
   "source": [
    "y_pred = lr_gs.best_estimator_.predict(X_train)\n",
    "cf = confusion_matrix(y_train,y_pred)\n",
    "plot_confusion_matrix(cf,\n",
    "                      show_absolute=True,\n",
    "                      show_normed=True,);"
   ]
  },
  {
   "cell_type": "code",
   "execution_count": 114,
   "metadata": {},
   "outputs": [],
   "source": [
    "# get roc curve metrics for model comparison\n",
    "lr_fpr,lr_tpr,_ = roc_curve(y_train, lr_gs.best_estimator_.predict_proba(X_train)[:,1])"
   ]
  },
  {
   "cell_type": "code",
   "execution_count": 115,
   "metadata": {},
   "outputs": [
    {
     "name": "stdout",
     "output_type": "stream",
     "text": [
      "roc auc for logistic regression : 0.837\n"
     ]
    }
   ],
   "source": [
    "lr_rocauc = roc_auc_score(y_train,lr_gs.best_estimator_.predict_proba(X_train)[:,1])\n",
    "print(f'roc auc for logistic regression : {lr_rocauc:0.3f}')"
   ]
  },
  {
   "cell_type": "code",
   "execution_count": 116,
   "metadata": {},
   "outputs": [],
   "source": [
    "lr_coef = sorted(list(zip(X.columns,np.exp(lr_gs.best_estimator_.coef_[0]))),key=lambda x:np.abs(x[1]),reverse=True)"
   ]
  },
  {
   "cell_type": "code",
   "execution_count": 117,
   "metadata": {},
   "outputs": [
    {
     "data": {
      "text/plain": [
       "[('CheckingAccountBalance_none', 3.8356706898999318),\n",
       " ('RequestedAmount_Log', 3.7177078641085908),\n",
       " ('YearsAtCurrentEmpl_7', 3.2485474290478424),\n",
       " ('YearsAtCurrentEmpl_4', 2.4896364500304324),\n",
       " ('CoApplicant_guarant', 2.4681115277964785),\n",
       " ('LoanPayoffPeriodByYear_5', 2.382826532190944),\n",
       " ('YearsAtCurrentEmpl_10+', 2.097675081098151),\n",
       " ('Age', 1.4244385766936989),\n",
       " ('YearsInCurrentResidence_3', 1.3821210934015173),\n",
       " ('RentOrOwnHome_rent', 1.3291119534535216),\n",
       " ('YearsInCurrentResidence_4', 1.3135605671565067),\n",
       " ('CurrentOpenLoanApplications_2', 1.0479950329291954),\n",
       " ('YearsInCurrentResidence_2', 1.0240557383841822),\n",
       " ('YearsAtCurrentEmpl_1', 1.0011318293616152),\n",
       " ('RentOrOwnHome_owned', 0.8989995033102315),\n",
       " ('LoanPayoffPeriodByYear_3', 0.8406019464760117),\n",
       " ('InterestRate_3', 0.8284076894573397),\n",
       " ('LoanPayoffPeriodByYear_4', 0.7688939747855582),\n",
       " ('CheckingAccountBalance_some', 0.6295304866398576),\n",
       " ('TypeOfCurrentEmployment_unskill', 0.5979386719852308),\n",
       " ('NumberOfDependents_2', 0.534161832696256),\n",
       " ('DeptsPaid', 0.5068849595932002),\n",
       " ('InterestRate_4', 0.5041421560314705),\n",
       " ('LoanPayoffPeriodByYear_2', 0.47535116911155595),\n",
       " ('TypeOfCurrentEmployment_skilled', 0.469178591970535),\n",
       " ('TypeOfCurrentEmployment_self', 0.43955405918021184),\n",
       " ('CurrentOpenLoanApplications_3', 0.4365229375454618),\n",
       " ('RequestedAmount_10000', 0.3873333927856055),\n",
       " ('LoanReason_goods', 0.38122541404451343),\n",
       " ('InterestRate_2', 0.31674374177633086),\n",
       " ('CheckingAccountBalance_debt', 0.29802230796204093),\n",
       " ('CurrentOpenLoanApplications_4', 0.2645856654418307),\n",
       " ('CoApplicant_co-app', 0.2157149989924611),\n",
       " ('LoanReason_auto', 0.21065680322473032),\n",
       " ('LoanPayoffPeriodInMonths_5yrs', 0.14712747753018354),\n",
       " ('LoanReason_busin', 0.1328552626415826),\n",
       " ('LoanReason_school', 0.11265847992192914),\n",
       " ('RequestedAmount_20000', 0.07235209846209345),\n",
       " ('LoanReason_repairs', 0.07190309195835849)]"
      ]
     },
     "execution_count": 117,
     "metadata": {},
     "output_type": "execute_result"
    }
   ],
   "source": [
    "lr_coef"
   ]
  },
  {
   "cell_type": "markdown",
   "metadata": {},
   "source": [
    "### GradientBoostingTrees"
   ]
  },
  {
   "cell_type": "markdown",
   "metadata": {},
   "source": [
    "Second classifier considered is Gradient Boosting classifier composed of trees."
   ]
  },
  {
   "cell_type": "markdown",
   "metadata": {},
   "source": [
    "..."
   ]
  },
  {
   "cell_type": "markdown",
   "metadata": {},
   "source": [
    "# Evaluate Generalization Performance Of Best Model"
   ]
  },
  {
   "cell_type": "markdown",
   "metadata": {},
   "source": [
    "..."
   ]
  }
 ],
 "metadata": {
  "kernelspec": {
   "display_name": "eods-s20",
   "language": "python",
   "name": "eods-s20"
  },
  "language_info": {
   "codemirror_mode": {
    "name": "ipython",
    "version": 3
   },
   "file_extension": ".py",
   "mimetype": "text/x-python",
   "name": "python",
   "nbconvert_exporter": "python",
   "pygments_lexer": "ipython3",
   "version": "3.7.6"
  },
  "toc": {
   "base_numbering": 1,
   "nav_menu": {},
   "number_sections": true,
   "sideBar": true,
   "skip_h1_title": false,
   "title_cell": "Table of Contents",
   "title_sidebar": "Contents",
   "toc_cell": true,
   "toc_position": {},
   "toc_section_display": true,
   "toc_window_display": true
  }
 },
 "nbformat": 4,
 "nbformat_minor": 2
}
