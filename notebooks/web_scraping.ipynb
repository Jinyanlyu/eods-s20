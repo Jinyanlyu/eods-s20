{
 "cells": [
  {
   "cell_type": "markdown",
   "metadata": {
    "slideshow": {
     "slide_type": "slide"
    }
   },
   "source": [
    "## Webscraping"
   ]
  },
  {
   "cell_type": "markdown",
   "metadata": {
    "slideshow": {
     "slide_type": "slide"
    }
   },
   "source": [
    "#### Basic html page\n",
    "\n",
    "```\n",
    "<!DOCTYPE html>\n",
    "<html>\n",
    "<head>\n",
    "    <title>Web Page!</title>\n",
    "    <style>\n",
    "        body {background-color: powderblue;}\n",
    "        h1   {color: blue;}\n",
    "        p    {color: red;}\n",
    "    </style>\n",
    "    <link rel=\"stylesheet\" href=\"styles.css\">\n",
    "    <script>\n",
    "        document.getElementById(\"demo\").innerHTML = \"Hello JavaScript!\";\n",
    "    </script>\n",
    "</head>\n",
    "<body>\n",
    "    <h1>A Very Bold Header</h1>\n",
    "    <div style=\"background-color:lightblue\">\n",
    "        <p>This is a paragraph.</p>\n",
    "    </div>\n",
    "</body>\n",
    "</html>\n",
    "```"
   ]
  },
  {
   "cell_type": "markdown",
   "metadata": {
    "slideshow": {
     "slide_type": "slide"
    }
   },
   "source": [
    "### nyc weather history\n",
    "\n",
    "http://w1.weather.gov/data/obhistory/KNYC.html"
   ]
  },
  {
   "cell_type": "code",
   "execution_count": 1,
   "metadata": {
    "slideshow": {
     "slide_type": "fragment"
    }
   },
   "outputs": [],
   "source": [
    "knyc_link = 'http://w1.weather.gov/data/obhistory/KNYC.html'"
   ]
  },
  {
   "cell_type": "code",
   "execution_count": 2,
   "metadata": {
    "slideshow": {
     "slide_type": "fragment"
    }
   },
   "outputs": [
    {
     "data": {
      "text/plain": [
       "<Response [200]>"
      ]
     },
     "execution_count": 2,
     "metadata": {},
     "output_type": "execute_result"
    }
   ],
   "source": [
    "import requests\n",
    "\n",
    "knyc_page = requests.get(knyc_link)\n",
    "knyc_page"
   ]
  },
  {
   "cell_type": "code",
   "execution_count": 3,
   "metadata": {
    "slideshow": {
     "slide_type": "fragment"
    }
   },
   "outputs": [
    {
     "name": "stdout",
     "output_type": "stream",
     "text": [
      "b'<!DOCTYPE HTML PUBLIC \"-//W3C//DTD HTML 4.0 Transitional//EN\">\\r\\n\\t\\t\\t\\t\\t\\t\\t<html><meta name=\"Author\" content=\"Leon Minton\"><head><title>\\r\\n\\t\\t\\t\\t\\t\\t\\tNational Weather Service : Observed Weather for past 3 Days : New York City, Central Park</title>\\r\\n\\t\\t\\t\\t\\t\\t\\t<link rel=\"STYLESHEET\" type=\"text/css\" href=\"/images/weather/fcicons/main.css\"></head>\\r\\n\\t\\t\\t\\t\\t\\t\\t<body bgcolor=\"#ffffff\" leftmargin=\"0\" topmargin=\"0\" marginwidth=\"0\" marginheight=\"0\" background=\"/images/weather/fcicons/gray_background.gif\">\\r\\n\\t\\t\\t\\t\\t\\t\\t<table cellspacing=\"0\" cellpadding=\"0\" border=\"0\" width=\"670\" background=\"/images/weather/fcicons/topbanner.jpg\">\\r\\n\\t\\t\\t\\t\\t\\t\\t<tr><td align=\"right\" height=\"19\"><a href=\"http://weather.gov\"><span class=\"nwslink\">weather.gov</span></a>&nbsp;&nbsp;&nbsp;</td></tr></table>\\r\\n\\t\\t\\t\\t\\t\\t\\t<table cellspacing=\"0\" cellpadding=\"0\" border=\"0\" width=\"670\"><tr valign=\"top\">\\r\\n\\t\\t\\t\\t\\t\\t\\t<td rowspan=\"2\"><a href=\"http://www.noaa.gov\"><img src=\"/images/weather/fcicons/noaaleft.jpg\" alt=\"NOAA logo - Click to go to the NOAA homepage\"'\n"
     ]
    }
   ],
   "source": [
    "# the first 1000 characters of the page\n",
    "print(knyc_page.content[:1000])"
   ]
  },
  {
   "cell_type": "code",
   "execution_count": 4,
   "metadata": {
    "slideshow": {
     "slide_type": "slide"
    }
   },
   "outputs": [],
   "source": [
    "# need to parse some html!\n",
    "from bs4 import BeautifulSoup"
   ]
  },
  {
   "cell_type": "code",
   "execution_count": 5,
   "metadata": {
    "slideshow": {
     "slide_type": "fragment"
    }
   },
   "outputs": [],
   "source": [
    "knyc_soup = BeautifulSoup(knyc_page.content)"
   ]
  },
  {
   "cell_type": "code",
   "execution_count": 6,
   "metadata": {
    "slideshow": {
     "slide_type": "fragment"
    }
   },
   "outputs": [
    {
     "name": "stdout",
     "output_type": "stream",
     "text": [
      "<!DOCTYPE HTML PUBLIC \"-//W3C//DTD HTML 4.0 Transitional//EN\">\n",
      "<html>\n",
      " <head>\n",
      "  <meta content=\"Leon Minton\" name=\"Author\"/>\n",
      "  <title>\n",
      "   National Weather Service : Observed Weather for past 3 Days : New York City, Central Park\n",
      "  </title>\n",
      "  <link href=\"/images/weather/fcicons/main.css\" rel=\"STYLESHEET\" type=\"text/css\"/>\n",
      " </head>\n",
      " <body background=\"/images/weather/fcicons/gray_background.gif\" bgcolor=\"#ffffff\" leftmargin=\"0\" marginheight=\"0\" marginwidth=\"0\" topmargin=\"0\">\n",
      "  <table background=\"/images/weather/fcicons/topbanner.jpg\" border=\"0\" cellpadding=\"0\" cellspacing=\"0\" width=\"670\">\n",
      "   <tr>\n",
      "    <td align=\"right\" height=\"19\">\n",
      "     <a href=\"http://weather.gov\">\n",
      "      <span class=\"nwslink\">\n",
      "       weather.gov\n",
      "      </span>\n",
      "     </a>\n",
      "    </td>\n",
      "   </tr>\n",
      "  </table>\n",
      "  <table border=\"0\" cellpadding=\"0\" cellspacing=\"0\" width=\"670\">\n",
      "   <tr valign=\"top\">\n",
      "    <td rowspan=\"2\">\n",
      "     <a href=\"http://www.noaa.gov\">\n",
      "      <img alt=\"NOAA logo - Click to go to the NOAA homepage\" border=\"0\" height=\"78\" s\n"
     ]
    }
   ],
   "source": [
    "# first 1000 characters more legibly\n",
    "print(knyc_soup.prettify()[:1000])"
   ]
  },
  {
   "cell_type": "code",
   "execution_count": 7,
   "metadata": {
    "slideshow": {
     "slide_type": "slide"
    }
   },
   "outputs": [
    {
     "name": "stdout",
     "output_type": "stream",
     "text": [
      "<table border=\"0\" cellpadding=\"2\" cellspacing=\"3\" width=\"670\"><tr align=\"center\" bgcolor=\"#b0c4de\"><th rowspan=\"3\" width=\"17\">D<br/>a<br/>t<br/>e</th><th rowspan=\"3\" width=\"32\">Time<br/>(edt)</th>\n",
      "<th rowspan=\"3\" width=\"80\">Wind<br/>(mph)</th><th rowspan=\"3\" width=\"40\">Vis.<br/>(mi.)</th><th rowspan=\"3\" width=\"80\">Weather</th><th rowspan=\"3\" width=\"65\">Sky Cond.</th>\n",
      "<th colspan=\"4\">Temperature (ºF)</th><th rowspan=\"3\" width=\"65\">Relative<br/>Humidity</th><th rowspan=\"3\" width=\"80\">Wind<br/>Chill<br/>(°F)</th><th rowspan=\"3\" width=\"80\">Heat<br/>Index<br/>(°F)</th><th colspan=\"2\">Pressure</th><th colspan=\"3\">Precipitation (in.)</th></tr>\n",
      "<tr align=\"center\" bgcolor=\"#b0c4de\"><th rowspan=\"2\" width=\"45\">Air</th><th rowspan=\"2\" width=\"26\">Dwpt</th><th colspan=\"2\">6 hour</th>\n",
      "<th rowspan=\"2\" width=\"40\">altimeter<br/>(in)</th><th rowspan=\"2\" width=\"40\">sea level<br/>(mb)</th><th rowspan=\"2\" width=\"24\">1 hr</th>\n",
      "<th rowspan=\"2\" width=\"24\">3 hr</th><th rowspan=\"2\" width=\"30\">6 hr</th></tr>\n",
      "<tr align=\"center\" bgcolor=\"#b0c4de\"><th width=\"26\">Max.</th><th width=\"26\">Min.</th></tr><tr align=\"center\" bgcolor=\"#eeeeee\" valign=\"top\"><td>04</td><td align=\"right\">15:51</td><td>W 14 G 37</td><td>10.00</td><td align=\"left\">Overcast</td><td>OVC080</td><td>60</td><td>35</td>\n",
      "<td></td><td></td><td>39%</td><td>NA</td><td>NA</td><td>29.76</td><td>1006.7</td><td></td><td></td><td></td></tr><tr align=\"center\" bgcolor=\"#f5f5f5\" valign=\"top\"><td>04</td><td align=\"right\">14:51</td><td>Vrbl 7 G 26</td><td>10.00</td><td align=\"left\">Mostly Cloudy</td><td>BKN110</td><td>63</td><td>35</td>\n",
      "<td></td><td></td><td>35%</td><td>NA</td><td>NA</td><td>29.74</td><td>1006.0</td><td></td><td></td><td></td></tr><tr align=\"center\" bgcolor=\"#eeeeee\" valign=\"top\"><td>04</td><td align=\"right\">13:51</td><td>Vrbl 5</td><td>10.00</td><td align=\"left\">Overcast</td><td>OVC090</td><td>66</td><td>36</td>\n",
      "<td>75</td><td>64</td><td>33%</td><td>NA</td><td>NA</td><td>29.70</td><td>1004.7</td><td></td><td></td><td></td></tr><tr align=\"center\" bgcolor=\"#f5f5f5\" valign=\"top\"><td>04</td><td align=\"right\">12:51</td><td>Vrbl 3</td><td>10.00</td><td align=\"left\">Overcast</td><td>FEW080 SCT090 OVC110</td><td>70</td><td>36</td>\n",
      "<td></td><td></td><td>29%</td><td>NA</td><td>NA</td><td>29.67</td><td>1003.7</td><td></td><td></td><td></td></tr><tr align=\"center\" bgcolor=\"#eeeeee\" valign=\"top\"><td>04</td><td align=\"right\">11:51</td><td>NA</td><td>10.00</td><td align=\"left\">Mostly Cloudy</td><td>SCT080 BKN095</td><td>70</td><td>37</td>\n",
      "<td></td><td></td><td>30%</td><td>NA</td><td>NA</td><td>29.68</td><td>1004.0</td><td></td><td></td><td></td></tr><tr align=\"center\" bgcolor=\"#f5f5f5\" valign=\"top\"><td>04</td><td align=\"right\">10:51</td><td>Calm</td><td>10.00</td><td align=\"left\">Fair</td><td>CLR</td><td>68</td><td>37</td>\n",
      "<td></td><td></td><td>32%</td><td>NA</td><td>NA</td><td>29.69</td><td>1004.5</td><td></td><td></td><td></td></tr><tr align=\"center\" bgcolor=\"#eeeeee\" valign=\"top\"><td>04</td><td align=\"right\">09:51</td><td>W 7</td><td>10.00</td><td align=\"left\">Fair</td><td>CLR</td><td>67</td><td>40</td>\n",
      "<td></td><td></td><td>37%</td><td>NA</td><td>NA</td><td>29.70</td><td>1004.7</td><td></td><td></td><td></td></tr><tr align=\"center\" bgcolor=\"#f5f5f5\" valign=\"top\"><td>04</td><td align=\"right\">08:51</td><td>Calm</td><td>10.00</td><td align=\"left\">Mostly Cloudy</td><td>BKN100</td><td>64</td><td>37</td>\n",
      "<td></td><td></td><td>37%</td><td>NA</td><td>NA</td><td>29.70</td><td>1004.9</td><td></td><td></td><td></td></tr><tr align=\"center\" bgcolor=\"#eeeeee\" valign=\"top\"><td>04</td><td align=\"right\">07:51</td><td>NE 5</td><td>10.00</td><td align=\"left\">Partly Cloudy</td><td>SCT100</td><td>64</td><td>39</td>\n",
      "<td>69</td><td>63</td><td>40%</td><td>NA</td><td>NA</td><td>29.70</td><td>1004.9</td><td></td><td></td><td></td></tr><tr align=\"center\" bgcolor=\"#f5f5f5\" valign=\"top\"><td>04</td><td align=\"right\">06:51</td><td>Vrbl 7</td><td>10.00</td><td align=\"left\">Overcast</td><td>OVC110</td><td>64</td><td>40</td>\n",
      "<td></td><td></td><td>41%</td><td>NA</td><td>NA</td><td>29.70</td><td>1004.7</td><td></td><td></td><td></td></tr><tr align=\"center\" bgcolor=\"#eeeeee\" valign=\"top\"><td>04</td><td align=\"right\">05:51</td><td>Calm</td><td>10.00</td><td align=\"left\">Overcast</td><td>OVC110</td><td>64</td><td>42</td>\n",
      "<td></td><td></td><td>45%</td><td>NA</td><td>NA</td><td>29.68</td><td>1004.1</td><td></td><td></td><td></td></tr><tr align=\"center\" bgcolor=\"#f5f5f5\" valign=\"top\"><td>04</td><td align=\"right\">04:51</td><td>Calm</td><td>10.00</td><td align=\"left\">NA</td><td>NA</td><td>64</td><td>42</td>\n",
      "<td></td><td></td><td>45%</td><td>NA</td><td>NA</td><td>29.66</td><td>1003.4</td><td></td><td></td><td></td></tr><tr align=\"center\" bgcolor=\"#eeeeee\" valign=\"top\"><td>04</td><td align=\"right\">03:51</td><td>Vrbl 7</td><td>10.00</td><td align=\"left\">A Few Clouds</td><td>FEW100</td><td>66</td><td>43</td>\n",
      "<td></td><td></td><td>43%</td><td>NA</td><td>NA</td><td>29.64</td><td>1002.9</td><td></td><td></td><td></td></tr><tr align=\"center\" bgcolor=\"#f5f5f5\" valign=\"top\"><td>04</td><td align=\"right\">02:51</td><td>Vrbl 6</td><td>10.00</td><td align=\"left\"> Light Rain</td><td>FEW060 OVC095</td><td>68</td><td>45</td>\n",
      "<td></td><td></td><td>44%</td><td>NA</td><td>NA</td><td>29.64</td><td>1002.7</td><td></td><td></td><td></td></tr><tr align=\"center\" bgcolor=\"#eeeeee\" valign=\"top\"><td>04</td><td align=\"right\">01:51</td><td>Vrbl 3</td><td>10.00</td><td align=\"left\">Partly Cloudy</td><td>SCT070</td><td>68</td><td>56</td>\n",
      "<td>76</td><td>68</td><td>65%</td><td>NA</td><td>NA</td><td>29.63</td><td>1002.4</td><td></td><td></td><td></td></tr><tr align=\"center\" bgcolor=\"#f5f5f5\" valign=\"top\"><td>04</td><td align=\"right\">00:51</td><td>SW 10 G 21</td><td>10.00</td><td align=\"left\">Mostly Cloudy</td><td>BKN095</td><td>70</td><td>56</td>\n",
      "<td></td><td></td><td>61%</td><td>NA</td><td>NA</td><td>29.65</td><td>1003.0</td><td></td><td></td><td></td></tr><tr align=\"center\" bgcolor=\"#eeeeee\" valign=\"top\"><td>03</td><td align=\"right\">23:51</td><td>Vrbl 3</td><td>10.00</td><td align=\"left\">Fair</td><td>CLR</td><td>71</td><td>50</td>\n",
      "<td></td><td></td><td>47%</td><td>NA</td><td>NA</td><td>29.64</td><td>1002.9</td><td></td><td></td><td></td></tr><tr align=\"center\" bgcolor=\"#f5f5f5\" valign=\"top\"><td>03</td><td align=\"right\">22:51</td><td>SW 8</td><td>10.00</td><td align=\"left\">Fair</td><td>CLR</td><td>71</td><td>49</td>\n",
      "<td></td><td></td><td>46%</td><td>NA</td><td>NA</td><td>29.66</td><td>1003.4</td><td></td><td></td><td></td></tr><tr align=\"center\" bgcolor=\"#eeeeee\" valign=\"top\"><td>03</td><td align=\"right\">21:51</td><td>Vrbl 6</td><td>10.00</td><td align=\"left\">Fair</td><td>CLR</td><td>71</td><td>49</td>\n",
      "<td></td><td></td><td>46%</td><td>NA</td><td>NA</td><td>29.68</td><td>1004.1</td><td></td><td></td><td></td></tr><tr align=\"center\" bgcolor=\"#f5f5f5\" valign=\"top\"><td>03</td><td align=\"right\">20:51</td><td>SW 6</td><td>10.00</td><td align=\"left\">Fair</td><td>CLR</td><td>74</td><td>48</td>\n",
      "<td></td><td></td><td>40%</td><td>NA</td><td>NA</td><td>29.68</td><td>1004.0</td><td></td><td></td><td></td></tr><tr align=\"center\" bgcolor=\"#eeeeee\" valign=\"top\"><td>03</td><td align=\"right\">19:51</td><td>Vrbl 5</td><td>10.00</td><td align=\"left\">Fair</td><td>CLR</td><td>75</td><td>48</td>\n",
      "<td>80</td><td>74</td><td>39%</td><td>NA</td><td>NA</td><td>29.67</td><td>1003.9</td><td></td><td></td><td></td></tr><tr align=\"center\" bgcolor=\"#f5f5f5\" valign=\"top\"><td>03</td><td align=\"right\">18:51</td><td>Vrbl 5</td><td>10.00</td><td align=\"left\">Fair</td><td>CLR</td><td>77</td><td>46</td>\n",
      "<td></td><td></td><td>33%</td><td>NA</td><td>78</td><td>29.67</td><td>1003.8</td><td></td><td></td><td></td></tr><tr align=\"center\" bgcolor=\"#eeeeee\" valign=\"top\"><td>03</td><td align=\"right\">17:51</td><td>Vrbl 6 G 16</td><td>10.00</td><td align=\"left\">Fair</td><td>CLR</td><td>79</td><td>48</td>\n",
      "<td></td><td></td><td>34%</td><td>NA</td><td>79</td><td>29.67</td><td>1003.9</td><td></td><td></td><td></td></tr><tr align=\"center\" bgcolor=\"#f5f5f5\" valign=\"top\"><td>03</td><td align=\"right\">16:51</td><td>SW 7</td><td>10.00</td><td align=\"left\">A Few Clouds</td><td>FEW080</td><td>79</td><td>48</td>\n",
      "<td></td><td></td><td>34%</td><td>NA</td><td>79</td><td>29.68</td><td>1004.0</td><td></td><td></td><td></td></tr><tr align=\"center\" bgcolor=\"#eeeeee\" valign=\"top\"><td>03</td><td align=\"right\">15:51</td><td>W 6</td><td>10.00</td><td align=\"left\">Fair</td><td>CLR</td><td>79</td><td>46</td>\n",
      "<td></td><td></td><td>31%</td><td>NA</td><td>79</td><td>29.69</td><td>1004.4</td><td></td><td></td><td></td></tr><tr align=\"center\" bgcolor=\"#f5f5f5\" valign=\"top\"><td>03</td><td align=\"right\">14:51</td><td>Vrbl 6 G 18</td><td>10.00</td><td align=\"left\">A Few Clouds</td><td>FEW060</td><td>78</td><td>48</td>\n",
      "<td></td><td></td><td>35%</td><td>NA</td><td>78</td><td>29.73</td><td>1005.7</td><td></td><td></td><td></td></tr><tr align=\"center\" bgcolor=\"#eeeeee\" valign=\"top\"><td>03</td><td align=\"right\">13:51</td><td>SW 9</td><td>10.00</td><td align=\"left\">Fair</td><td>CLR</td><td>74</td><td>52</td>\n",
      "<td>74</td><td>57</td><td>46%</td><td>NA</td><td>NA</td><td>29.74</td><td>1006.1</td><td></td><td></td><td></td></tr><tr align=\"center\" bgcolor=\"#f5f5f5\" valign=\"top\"><td>03</td><td align=\"right\">12:51</td><td>SW 5</td><td>10.00</td><td align=\"left\">Fair</td><td>CLR</td><td>72</td><td>54</td>\n",
      "<td></td><td></td><td>53%</td><td>NA</td><td>NA</td><td>29.76</td><td>1007.0</td><td></td><td></td><td></td></tr><tr align=\"center\" bgcolor=\"#eeeeee\" valign=\"top\"><td>03</td><td align=\"right\">11:51</td><td>W 7</td><td>10.00</td><td align=\"left\">Fair</td><td>CLR</td><td>68</td><td>53</td>\n",
      "<td></td><td></td><td>59%</td><td>NA</td><td>NA</td><td>29.80</td><td>1008.0</td><td></td><td></td><td></td></tr><tr align=\"center\" bgcolor=\"#f5f5f5\" valign=\"top\"><td>03</td><td align=\"right\">10:51</td><td>W 8</td><td>10.00</td><td align=\"left\">Fair</td><td>CLR</td><td>64</td><td>52</td>\n",
      "<td></td><td></td><td>65%</td><td>NA</td><td>NA</td><td>29.82</td><td>1008.9</td><td></td><td></td><td></td></tr><tr align=\"center\" bgcolor=\"#eeeeee\" valign=\"top\"><td>03</td><td align=\"right\">09:51</td><td>Calm</td><td>10.00</td><td align=\"left\">Fair</td><td>CLR</td><td>60</td><td>53</td>\n",
      "<td></td><td></td><td>78%</td><td>NA</td><td>NA</td><td>29.83</td><td>1009.1</td><td></td><td></td><td></td></tr><tr align=\"center\" bgcolor=\"#f5f5f5\" valign=\"top\"><td>03</td><td align=\"right\">08:51</td><td>SW 8</td><td>10.00</td><td align=\"left\">Fair</td><td>CLR</td><td>59</td><td>52</td>\n",
      "<td></td><td></td><td>78%</td><td>NA</td><td>NA</td><td>29.85</td><td>1009.9</td><td></td><td></td><td></td></tr><tr align=\"center\" bgcolor=\"#eeeeee\" valign=\"top\"><td>03</td><td align=\"right\">07:51</td><td>NA</td><td>10.00</td><td align=\"left\">Partly Cloudy</td><td>SCT100</td><td>57</td><td>51</td>\n",
      "<td>64</td><td>54</td><td>81%</td><td>NA</td><td>NA</td><td>29.85</td><td>1010.0</td><td></td><td></td><td>0.04</td></tr><tr align=\"center\" bgcolor=\"#f5f5f5\" valign=\"top\"><td>03</td><td align=\"right\">06:51</td><td>Calm</td><td>10.00</td><td align=\"left\">Mostly Cloudy</td><td>BKN110</td><td>55</td><td>51</td>\n",
      "<td></td><td></td><td>87%</td><td>NA</td><td>NA</td><td>29.85</td><td>1009.9</td><td></td><td></td><td></td></tr><tr align=\"center\" bgcolor=\"#eeeeee\" valign=\"top\"><td>03</td><td align=\"right\">05:51</td><td>Vrbl 3</td><td>10.00</td><td align=\"left\"> Light Rain</td><td>FEW060 SCT090 OVC110</td><td>55</td><td>51</td>\n",
      "<td></td><td></td><td>87%</td><td>NA</td><td>NA</td><td>29.85</td><td>1009.8</td><td>0.03</td><td></td><td></td></tr><tr align=\"center\" bgcolor=\"#f5f5f5\" valign=\"top\"><td>03</td><td align=\"right\">04:51</td><td>Vrbl 6</td><td>7.00</td><td align=\"left\"> Light Rain</td><td>SCT041 BKN050 OVC060</td><td>56</td><td>49</td>\n",
      "<td></td><td></td><td>77%</td><td>NA</td><td>NA</td><td>29.86</td><td>1010.3</td><td>0.01</td><td>0.01</td><td></td></tr><tr align=\"center\" bgcolor=\"#eeeeee\" valign=\"top\"><td>03</td><td align=\"right\">03:51</td><td>Vrbl 5</td><td>10.00</td><td align=\"left\"> Light Rain</td><td>OVC070</td><td>59</td><td>45</td>\n",
      "<td></td><td></td><td>60%</td><td>NA</td><td>NA</td><td>29.86</td><td>1010.2</td><td></td><td></td><td></td></tr><tr align=\"center\" bgcolor=\"#f5f5f5\" valign=\"top\"><td>03</td><td align=\"right\">02:51</td><td>Vrbl 5</td><td>10.00</td><td align=\"left\">Overcast</td><td>OVC075</td><td>63</td><td>41</td>\n",
      "<td></td><td></td><td>45%</td><td>NA</td><td>NA</td><td>29.86</td><td>1010.4</td><td></td><td></td><td></td></tr><tr align=\"center\" bgcolor=\"#eeeeee\" valign=\"top\"><td>03</td><td align=\"right\">01:51</td><td>Vrbl 3</td><td>10.00</td><td align=\"left\"> Light Rain</td><td>OVC080</td><td>63</td><td>41</td>\n",
      "<td>69</td><td>63</td><td>45%</td><td>NA</td><td>NA</td><td>29.91</td><td>1011.8</td><td></td><td></td><td></td></tr><tr align=\"center\" bgcolor=\"#f5f5f5\" valign=\"top\"><td>03</td><td align=\"right\">00:51</td><td>SW 7</td><td>10.00</td><td align=\"left\">Overcast</td><td>OVC080</td><td>65</td><td>39</td>\n",
      "<td></td><td></td><td>39%</td><td>NA</td><td>NA</td><td>29.92</td><td>1012.3</td><td></td><td></td><td></td></tr><tr align=\"center\" bgcolor=\"#eeeeee\" valign=\"top\"><td>02</td><td align=\"right\">23:51</td><td>NA</td><td>10.00</td><td align=\"left\">Overcast</td><td>OVC095</td><td>67</td><td>38</td>\n",
      "<td></td><td></td><td>35%</td><td>NA</td><td>NA</td><td>29.92</td><td>1012.2</td><td></td><td></td><td></td></tr><tr align=\"center\" bgcolor=\"#f5f5f5\" valign=\"top\"><td>02</td><td align=\"right\">22:51</td><td>SW 5</td><td>10.00</td><td align=\"left\">Mostly Cloudy</td><td>BKN100 BKN120</td><td>66</td><td>37</td>\n",
      "<td></td><td></td><td>34%</td><td>NA</td><td>NA</td><td>29.94</td><td>1013.0</td><td></td><td></td><td></td></tr><tr align=\"center\" bgcolor=\"#eeeeee\" valign=\"top\"><td>02</td><td align=\"right\">21:51</td><td>Vrbl 6</td><td>10.00</td><td align=\"left\">Fair</td><td>CLR</td><td>66</td><td>37</td>\n",
      "<td></td><td></td><td>34%</td><td>NA</td><td>NA</td><td>29.94</td><td>1013.1</td><td></td><td></td><td></td></tr><tr align=\"center\" bgcolor=\"#f5f5f5\" valign=\"top\"><td>02</td><td align=\"right\">20:51</td><td>SW 7</td><td>10.00</td><td align=\"left\">Partly Cloudy</td><td>SCT120</td><td>68</td><td>37</td>\n",
      "<td></td><td></td><td>32%</td><td>NA</td><td>NA</td><td>29.94</td><td>1012.9</td><td></td><td></td><td></td></tr><tr align=\"center\" bgcolor=\"#eeeeee\" valign=\"top\"><td>02</td><td align=\"right\">19:51</td><td>Vrbl 7</td><td>10.00</td><td align=\"left\">Fair</td><td>CLR</td><td>69</td><td>38</td>\n",
      "<td>73</td><td>69</td><td>32%</td><td>NA</td><td>NA</td><td>29.92</td><td>1012.2</td><td></td><td></td><td></td></tr><tr align=\"center\" bgcolor=\"#f5f5f5\" valign=\"top\"><td>02</td><td align=\"right\">18:51</td><td>Vrbl 3</td><td>10.00</td><td align=\"left\">Fair</td><td>CLR</td><td>71</td><td>33</td>\n",
      "<td></td><td></td><td>25%</td><td>NA</td><td>NA</td><td>29.90</td><td>1011.6</td><td></td><td></td><td></td></tr><tr align=\"center\" bgcolor=\"#eeeeee\" valign=\"top\"><td>02</td><td align=\"right\">17:51</td><td>W 8</td><td>10.00</td><td align=\"left\">Fair</td><td>CLR</td><td>72</td><td>34</td>\n",
      "<td></td><td></td><td>25%</td><td>NA</td><td>NA</td><td>29.92</td><td>1012.4</td><td></td><td></td><td></td></tr><tr align=\"center\" bgcolor=\"#f5f5f5\" valign=\"top\"><td>02</td><td align=\"right\">16:51</td><td>W 8</td><td>10.00</td><td align=\"left\">Fair</td><td>CLR</td><td>73</td><td>34</td>\n",
      "<td></td><td></td><td>24%</td><td>NA</td><td>NA</td><td>29.92</td><td>1012.4</td><td></td><td></td><td></td></tr><tr align=\"center\" bgcolor=\"#eeeeee\" valign=\"top\"><td>02</td><td align=\"right\">15:51</td><td>W 8 G 16</td><td>10.00</td><td align=\"left\">Fair</td><td>CLR</td><td>73</td><td>35</td>\n",
      "<td></td><td></td><td>25%</td><td>NA</td><td>NA</td><td>29.94</td><td>1013.0</td><td></td><td></td><td></td></tr><tr align=\"center\" bgcolor=\"#f5f5f5\" valign=\"top\"><td>02</td><td align=\"right\">14:51</td><td>Vrbl 5</td><td>10.00</td><td align=\"left\">Fair</td><td>CLR</td><td>71</td><td>34</td>\n",
      "<td></td><td></td><td>26%</td><td>NA</td><td>NA</td><td>29.96</td><td>1013.8</td><td></td><td></td><td></td></tr><tr align=\"center\" bgcolor=\"#eeeeee\" valign=\"top\"><td>02</td><td align=\"right\">13:51</td><td>Vrbl 3</td><td>10.00</td><td align=\"left\">Fair</td><td>CLR</td><td>71</td><td>35</td>\n",
      "<td>72</td><td>53</td><td>27%</td><td>NA</td><td>NA</td><td>29.98</td><td>1014.2</td><td></td><td></td><td></td></tr><tr align=\"center\" bgcolor=\"#f5f5f5\" valign=\"top\"><td>02</td><td align=\"right\">12:51</td><td>NW 9</td><td>10.00</td><td align=\"left\">Fair</td><td>CLR</td><td>70</td><td>35</td>\n",
      "<td></td><td></td><td>28%</td><td>NA</td><td>NA</td><td>30.00</td><td>1015.0</td><td></td><td></td><td></td></tr><tr align=\"center\" bgcolor=\"#eeeeee\" valign=\"top\"><td>02</td><td align=\"right\">11:51</td><td>Vrbl 6</td><td>10.00</td><td align=\"left\">Fair</td><td>CLR</td><td>68</td><td>38</td>\n",
      "<td></td><td></td><td>33%</td><td>NA</td><td>NA</td><td>30.02</td><td>1015.6</td><td></td><td></td><td></td></tr><tr align=\"center\" bgcolor=\"#f5f5f5\" valign=\"top\"><td>02</td><td align=\"right\">10:51</td><td>NA</td><td>10.00</td><td align=\"left\">Fair</td><td>CLR</td><td>64</td><td>36</td>\n",
      "<td></td><td></td><td>35%</td><td>NA</td><td>NA</td><td>30.03</td><td>1015.9</td><td></td><td></td><td></td></tr><tr align=\"center\" bgcolor=\"#eeeeee\" valign=\"top\"><td>02</td><td align=\"right\">09:51</td><td>N 8 G 16</td><td>10.00</td><td align=\"left\">Fair</td><td>CLR</td><td>61</td><td>35</td>\n",
      "<td></td><td></td><td>38%</td><td>NA</td><td>NA</td><td>30.02</td><td>1015.6</td><td></td><td></td><td></td></tr><tr align=\"center\" bgcolor=\"#f5f5f5\" valign=\"top\"><td>02</td><td align=\"right\">08:51</td><td>NA</td><td>10.00</td><td align=\"left\">Fair</td><td>CLR</td><td>57</td><td>37</td>\n",
      "<td></td><td></td><td>47%</td><td>NA</td><td>NA</td><td>30.01</td><td>1015.4</td><td></td><td></td><td></td></tr><tr align=\"center\" bgcolor=\"#eeeeee\" valign=\"top\"><td>02</td><td align=\"right\">07:51</td><td>W 5</td><td>10.00</td><td align=\"left\">Fair</td><td>CLR</td><td>53</td><td>38</td>\n",
      "<td>56</td><td>51</td><td>57%</td><td>NA</td><td>NA</td><td>30.00</td><td>1014.9</td><td></td><td></td><td></td></tr><tr align=\"center\" bgcolor=\"#f5f5f5\" valign=\"top\"><td>02</td><td align=\"right\">06:51</td><td>NA</td><td>10.00</td><td align=\"left\">Fair</td><td>CLR</td><td>52</td><td>38</td>\n",
      "<td></td><td></td><td>59%</td><td>NA</td><td>NA</td><td>29.98</td><td>1014.1</td><td></td><td></td><td></td></tr><tr align=\"center\" bgcolor=\"#eeeeee\" valign=\"top\"><td>02</td><td align=\"right\">05:51</td><td>Vrbl 6</td><td>10.00</td><td align=\"left\">Fair</td><td>CLR</td><td>52</td><td>37</td>\n",
      "<td></td><td></td><td>57%</td><td>NA</td><td>NA</td><td>29.94</td><td>1012.8</td><td></td><td></td><td></td></tr><tr align=\"center\" bgcolor=\"#f5f5f5\" valign=\"top\"><td>02</td><td align=\"right\">04:51</td><td>W 7</td><td>10.00</td><td align=\"left\">Fair</td><td>CLR</td><td>52</td><td>37</td>\n",
      "<td></td><td></td><td>57%</td><td>NA</td><td>NA</td><td>29.90</td><td>1011.6</td><td></td><td></td><td></td></tr><tr align=\"center\" bgcolor=\"#eeeeee\" valign=\"top\"><td>02</td><td align=\"right\">03:51</td><td>Vrbl 3</td><td>10.00</td><td align=\"left\">Fair</td><td>CLR</td><td>53</td><td>37</td>\n",
      "<td></td><td></td><td>55%</td><td>NA</td><td>NA</td><td>29.88</td><td>1010.9</td><td></td><td></td><td></td></tr><tr align=\"center\" bgcolor=\"#f5f5f5\" valign=\"top\"><td>02</td><td align=\"right\">02:51</td><td>NA</td><td>10.00</td><td align=\"left\">Fair</td><td>CLR</td><td>54</td><td>39</td>\n",
      "<td></td><td></td><td>57%</td><td>NA</td><td>NA</td><td>29.86</td><td>1010.2</td><td></td><td></td><td></td></tr><tr align=\"center\" bgcolor=\"#eeeeee\" valign=\"top\"><td>02</td><td align=\"right\">01:51</td><td>NA</td><td>10.00</td><td align=\"left\">Fair</td><td>CLR</td><td>56</td><td>43</td>\n",
      "<td>63</td><td>56</td><td>62%</td><td>NA</td><td>NA</td><td>29.84</td><td>1009.5</td><td></td><td></td><td>0.01</td></tr><tr align=\"center\" bgcolor=\"#f5f5f5\" valign=\"top\"><td>02</td><td align=\"right\">00:51</td><td>NW 10 G 18</td><td>10.00</td><td align=\"left\">Fair</td><td>CLR</td><td>58</td><td>46</td>\n",
      "<td></td><td></td><td>65%</td><td>NA</td><td>NA</td><td>29.82</td><td>1008.8</td><td></td><td></td><td></td></tr><tr align=\"center\" bgcolor=\"#eeeeee\" valign=\"top\"><td>01</td><td align=\"right\">23:51</td><td>Vrbl 7</td><td>10.00</td><td align=\"left\">Overcast</td><td>OVC085</td><td>59</td><td>45</td>\n",
      "<td></td><td></td><td>60%</td><td>NA</td><td>NA</td><td>29.80</td><td>1008.2</td><td>0.01</td><td></td><td></td></tr><tr align=\"center\" bgcolor=\"#f5f5f5\" valign=\"top\"><td>01</td><td align=\"right\">22:51</td><td>Vrbl 3</td><td>10.00</td><td align=\"left\">Overcast</td><td>OVC085</td><td>61</td><td>47</td>\n",
      "<td></td><td></td><td>60%</td><td>NA</td><td>NA</td><td>29.78</td><td>1007.6</td><td></td><td></td><td></td></tr><tr align=\"center\" bgcolor=\"#eeeeee\" valign=\"top\"><td>01</td><td align=\"right\">21:51</td><td>W 9</td><td>10.00</td><td align=\"left\">Overcast</td><td>OVC080</td><td>62</td><td>48</td>\n",
      "<td></td><td></td><td>60%</td><td>NA</td><td>NA</td><td>29.77</td><td>1007.1</td><td></td><td></td><td></td></tr><tr align=\"center\" bgcolor=\"#f5f5f5\" valign=\"top\"><td>01</td><td align=\"right\">20:51</td><td>W 5</td><td>10.00</td><td align=\"left\">Overcast</td><td>OVC075</td><td>62</td><td>48</td>\n",
      "<td></td><td></td><td>60%</td><td>NA</td><td>NA</td><td>29.75</td><td>1006.5</td><td></td><td></td><td></td></tr><tr align=\"center\" bgcolor=\"#eeeeee\" valign=\"top\"><td>01</td><td align=\"right\">19:51</td><td>Vrbl 3</td><td>10.00</td><td align=\"left\">Fair</td><td>CLR</td><td>63</td><td>47</td>\n",
      "<td>66</td><td>61</td><td>56%</td><td>NA</td><td>NA</td><td>29.73</td><td>1005.8</td><td></td><td></td><td></td></tr><tr align=\"center\" bgcolor=\"#f5f5f5\" valign=\"top\"><td>01</td><td align=\"right\">18:51</td><td>Vrbl 6</td><td>10.00</td><td align=\"left\">Mostly Cloudy</td><td>BKN041 BKN050</td><td>65</td><td>48</td>\n",
      "<td></td><td></td><td>54%</td><td>NA</td><td>NA</td><td>29.72</td><td>1005.3</td><td></td><td></td><td></td></tr><tr align=\"center\" bgcolor=\"#eeeeee\" valign=\"top\"><td>01</td><td align=\"right\">17:51</td><td>Vrbl 7</td><td>10.00</td><td align=\"left\">Partly Cloudy</td><td>SCT041 SCT050</td><td>65</td><td>50</td>\n",
      "<td></td><td></td><td>59%</td><td>NA</td><td>NA</td><td>29.70</td><td>1004.9</td><td></td><td></td><td></td></tr><tr align=\"center\" bgcolor=\"#f5f5f5\" valign=\"top\"><td>01</td><td align=\"right\">16:51</td><td>Calm</td><td>10.00</td><td align=\"left\">Mostly Cloudy</td><td>FEW035 SCT045 BKN080</td><td>65</td><td>51</td>\n",
      "<td></td><td></td><td>61%</td><td>NA</td><td>NA</td><td>29.69</td><td>1004.6</td><td></td><td></td><td></td></tr><tr align=\"center\" bgcolor=\"#b0c4de\"><th rowspan=\"3\">D<br/>a<br/>t<br/>e</th><th rowspan=\"3\">Time<br/>(edt)</th>\n",
      "<th rowspan=\"3\">Wind<br/>(mph)</th><th rowspan=\"3\">Vis.<br/>(mi.)</th><th rowspan=\"3\">Weather</th><th align=\"CENTER\" rowspan=\"3\">Sky Cond.</th>\n",
      "<th rowspan=\"2\">Air</th><th rowspan=\"2\">Dwpt</th><th>Max.</th><th>Min.</th><th rowspan=\"3\" width=\"65\">Relative<br/>Humidity</th><th rowspan=\"3\" width=\"80\">Wind<br/>Chill<br/>(°F)</th><th rowspan=\"3\" width=\"80\">Heat<br/>Index<br/>(°F)</th><th rowspan=\"2\">altimeter<br/>(in.)</th><th rowspan=\"2\">sea level<br/>(mb)</th>\n",
      "<th rowspan=\"2\">1 hr</th><th rowspan=\"2\">3 hr</th><th rowspan=\"2\">6 hr</th></tr>\n",
      "<tr align=\"center\" bgcolor=\"#b0c4de\"><th colspan=\"2\">6 hour</th></tr><tr align=\"center\" bgcolor=\"#b0c4de\">\n",
      "<th colspan=\"4\">Temperature (ºF)</th><th colspan=\"2\">Pressure</th><th colspan=\"3\">Precipitation (in.)</th></tr></table>\n"
     ]
    }
   ],
   "source": [
    "# print the 4rd table in the page\n",
    "print(knyc_soup.find_all('table')[3])"
   ]
  },
  {
   "cell_type": "code",
   "execution_count": 8,
   "metadata": {
    "slideshow": {
     "slide_type": "slide"
    }
   },
   "outputs": [
    {
     "data": {
      "text/html": [
       "<div>\n",
       "<style scoped>\n",
       "    .dataframe tbody tr th:only-of-type {\n",
       "        vertical-align: middle;\n",
       "    }\n",
       "\n",
       "    .dataframe tbody tr th {\n",
       "        vertical-align: top;\n",
       "    }\n",
       "\n",
       "    .dataframe thead th {\n",
       "        text-align: right;\n",
       "    }\n",
       "</style>\n",
       "<table border=\"1\" class=\"dataframe\">\n",
       "  <thead>\n",
       "    <tr style=\"text-align: right;\">\n",
       "      <th></th>\n",
       "      <th>0</th>\n",
       "      <th>1</th>\n",
       "      <th>2</th>\n",
       "      <th>3</th>\n",
       "      <th>4</th>\n",
       "      <th>5</th>\n",
       "      <th>6</th>\n",
       "      <th>7</th>\n",
       "      <th>8</th>\n",
       "      <th>9</th>\n",
       "      <th>10</th>\n",
       "      <th>11</th>\n",
       "      <th>12</th>\n",
       "      <th>13</th>\n",
       "      <th>14</th>\n",
       "      <th>15</th>\n",
       "      <th>16</th>\n",
       "      <th>17</th>\n",
       "    </tr>\n",
       "  </thead>\n",
       "  <tbody>\n",
       "    <tr>\n",
       "      <th>0</th>\n",
       "      <td>04</td>\n",
       "      <td>15:51</td>\n",
       "      <td>W 14 G 37</td>\n",
       "      <td>10.00</td>\n",
       "      <td>Overcast</td>\n",
       "      <td>OVC080</td>\n",
       "      <td>60</td>\n",
       "      <td>35</td>\n",
       "      <td></td>\n",
       "      <td></td>\n",
       "      <td>39%</td>\n",
       "      <td>NA</td>\n",
       "      <td>NA</td>\n",
       "      <td>29.76</td>\n",
       "      <td>1006.7</td>\n",
       "      <td></td>\n",
       "      <td></td>\n",
       "      <td></td>\n",
       "    </tr>\n",
       "    <tr>\n",
       "      <th>1</th>\n",
       "      <td>04</td>\n",
       "      <td>14:51</td>\n",
       "      <td>Vrbl 7 G 26</td>\n",
       "      <td>10.00</td>\n",
       "      <td>Mostly Cloudy</td>\n",
       "      <td>BKN110</td>\n",
       "      <td>63</td>\n",
       "      <td>35</td>\n",
       "      <td></td>\n",
       "      <td></td>\n",
       "      <td>35%</td>\n",
       "      <td>NA</td>\n",
       "      <td>NA</td>\n",
       "      <td>29.74</td>\n",
       "      <td>1006.0</td>\n",
       "      <td></td>\n",
       "      <td></td>\n",
       "      <td></td>\n",
       "    </tr>\n",
       "    <tr>\n",
       "      <th>2</th>\n",
       "      <td>04</td>\n",
       "      <td>13:51</td>\n",
       "      <td>Vrbl 5</td>\n",
       "      <td>10.00</td>\n",
       "      <td>Overcast</td>\n",
       "      <td>OVC090</td>\n",
       "      <td>66</td>\n",
       "      <td>36</td>\n",
       "      <td>75</td>\n",
       "      <td>64</td>\n",
       "      <td>33%</td>\n",
       "      <td>NA</td>\n",
       "      <td>NA</td>\n",
       "      <td>29.70</td>\n",
       "      <td>1004.7</td>\n",
       "      <td></td>\n",
       "      <td></td>\n",
       "      <td></td>\n",
       "    </tr>\n",
       "    <tr>\n",
       "      <th>3</th>\n",
       "      <td>04</td>\n",
       "      <td>12:51</td>\n",
       "      <td>Vrbl 3</td>\n",
       "      <td>10.00</td>\n",
       "      <td>Overcast</td>\n",
       "      <td>FEW080 SCT090 OVC110</td>\n",
       "      <td>70</td>\n",
       "      <td>36</td>\n",
       "      <td></td>\n",
       "      <td></td>\n",
       "      <td>29%</td>\n",
       "      <td>NA</td>\n",
       "      <td>NA</td>\n",
       "      <td>29.67</td>\n",
       "      <td>1003.7</td>\n",
       "      <td></td>\n",
       "      <td></td>\n",
       "      <td></td>\n",
       "    </tr>\n",
       "    <tr>\n",
       "      <th>4</th>\n",
       "      <td>04</td>\n",
       "      <td>11:51</td>\n",
       "      <td>NA</td>\n",
       "      <td>10.00</td>\n",
       "      <td>Mostly Cloudy</td>\n",
       "      <td>SCT080 BKN095</td>\n",
       "      <td>70</td>\n",
       "      <td>37</td>\n",
       "      <td></td>\n",
       "      <td></td>\n",
       "      <td>30%</td>\n",
       "      <td>NA</td>\n",
       "      <td>NA</td>\n",
       "      <td>29.68</td>\n",
       "      <td>1004.0</td>\n",
       "      <td></td>\n",
       "      <td></td>\n",
       "      <td></td>\n",
       "    </tr>\n",
       "  </tbody>\n",
       "</table>\n",
       "</div>"
      ],
      "text/plain": [
       "    0      1            2      3              4                     5   6   7  \\\n",
       "0  04  15:51    W 14 G 37  10.00       Overcast                OVC080  60  35   \n",
       "1  04  14:51  Vrbl 7 G 26  10.00  Mostly Cloudy                BKN110  63  35   \n",
       "2  04  13:51       Vrbl 5  10.00       Overcast                OVC090  66  36   \n",
       "3  04  12:51       Vrbl 3  10.00       Overcast  FEW080 SCT090 OVC110  70  36   \n",
       "4  04  11:51           NA  10.00  Mostly Cloudy         SCT080 BKN095  70  37   \n",
       "\n",
       "    8   9   10  11  12     13      14 15 16 17  \n",
       "0          39%  NA  NA  29.76  1006.7           \n",
       "1          35%  NA  NA  29.74  1006.0           \n",
       "2  75  64  33%  NA  NA  29.70  1004.7           \n",
       "3          29%  NA  NA  29.67  1003.7           \n",
       "4          30%  NA  NA  29.68  1004.0           "
      ]
     },
     "execution_count": 8,
     "metadata": {},
     "output_type": "execute_result"
    }
   ],
   "source": [
    "# extract data from the 4th table in the page into a dataframe\n",
    "\n",
    "import pandas as pd\n",
    "\n",
    "data_table = knyc_soup.find_all('table')[3]\n",
    "\n",
    "table_rows = data_table.find_all('tr') # get rows from table\n",
    "\n",
    "data = []\n",
    "for idx,tr in enumerate(table_rows):\n",
    "    if idx < 3 :                       # skip header rows\n",
    "        continue\n",
    "    td = tr.find_all('td')             # get table cells\n",
    "    row = [elem.text for elem in td]   # pull text from cells\n",
    "    data.append(row)                   # add to dataset\n",
    "    \n",
    "pd.DataFrame(data).head()"
   ]
  },
  {
   "cell_type": "markdown",
   "metadata": {
    "slideshow": {
     "slide_type": "slide"
    }
   },
   "source": [
    "#### Laguardia Weather History Summary\n",
    "https://www.wunderground.com/history/daily/us/ny/new-york-city/KNYC/date/2018-12-3?cm_ven=localwx_history"
   ]
  },
  {
   "cell_type": "code",
   "execution_count": 9,
   "metadata": {
    "slideshow": {
     "slide_type": "fragment"
    }
   },
   "outputs": [],
   "source": [
    "wu_link = 'https://www.wunderground.com/history/daily/us/ny/new-york-city/KLGA'"
   ]
  },
  {
   "cell_type": "markdown",
   "metadata": {
    "slideshow": {
     "slide_type": "slide"
    }
   },
   "source": [
    "<img src='./images/wunderground_table.png'>"
   ]
  },
  {
   "cell_type": "code",
   "execution_count": 10,
   "metadata": {
    "slideshow": {
     "slide_type": "slide"
    }
   },
   "outputs": [
    {
     "data": {
      "text/plain": [
       "<Response [200]>"
      ]
     },
     "execution_count": 10,
     "metadata": {},
     "output_type": "execute_result"
    }
   ],
   "source": [
    "# get the page\n",
    "import requests\n",
    "wu_page = requests.get(wu_link)\n",
    "wu_page"
   ]
  },
  {
   "cell_type": "code",
   "execution_count": 11,
   "metadata": {
    "slideshow": {
     "slide_type": "slide"
    }
   },
   "outputs": [],
   "source": [
    "from bs4 import BeautifulSoup\n",
    "wu_soup = BeautifulSoup(wu_page.content)"
   ]
  },
  {
   "cell_type": "code",
   "execution_count": 12,
   "metadata": {
    "slideshow": {
     "slide_type": "fragment"
    }
   },
   "outputs": [
    {
     "name": "stdout",
     "output_type": "stream",
     "text": [
      "<!DOCTYPE html>\n",
      "<html itemscope=\"\" itemtype=\"http://schema.org/Organization\" lang=\"en\" prefix=\"og: http://ogp.me/ns#\">\n",
      " <head itemscope=\"\" itemtype=\"http://schema.org/WebSite\">\n",
      "  <meta charset=\"utf-8\"/>\n",
      "  <title>\n",
      "   New York City, NY Weather History | Weather Underground\n",
      "  </title>\n",
      "  <base href=\"/\"/>\n",
      "  <meta content=\"width=device-width, initial-scale=1\" name=\"viewport\"/>\n",
      "  <meta content=\"IE=edge,chrome=1\" http-equiv=\"X-UA-Compatible\"/>\n",
      "  <link href=\"//widgets.outbrain.com\" rel=\"dns-prefetch\"/>\n",
      "  <link href=\"//odb.outbrain.com\" rel=\"dns-prefetch\"/>\n",
      "  <link href=\"//c.amazon-adsystem.com\" rel=\"dns-prefetch\"/>\n",
      "  <link href=\"//s.amazon-adsystem.com\" rel=\"dns-prefetch\"/>\n",
      "  <link href=\"//aax.amazon-adsystem.com\" rel=\"dns-prefetch\"/>\n",
      "  <link href=\"//partner.googleadservices.com\" rel=\"dns-prefetch\"/>\n",
      "  <link href=\"//tpc.googlesyndication.com\" rel=\"dns-prefetch\"/>\n",
      "  <link href=\"//pagead2.googlesyndication.com\" rel=\"dns-prefetch\"/>\n",
      "  <link href=\"//h.nexac.com\" rel=\"dns-prefetch\"/>\n",
      "  <link href=\"/\n"
     ]
    }
   ],
   "source": [
    "print(wu_soup.prettify()[:1000])"
   ]
  },
  {
   "cell_type": "code",
   "execution_count": 13,
   "metadata": {
    "slideshow": {
     "slide_type": "fragment"
    }
   },
   "outputs": [
    {
     "data": {
      "text/plain": [
       "[]"
      ]
     },
     "execution_count": 13,
     "metadata": {},
     "output_type": "execute_result"
    }
   ],
   "source": [
    "# the table we want doesn't exist! culprit: javascript\n",
    "wu_soup.find_all('table',class_=lambda value: value and value.startswith(\"mat-table\"))"
   ]
  },
  {
   "cell_type": "code",
   "execution_count": 14,
   "metadata": {
    "slideshow": {
     "slide_type": "slide"
    }
   },
   "outputs": [
    {
     "name": "stdout",
     "output_type": "stream",
     "text": [
      "nTime=timing.domainLookupEnd-timing.domainLookupStart;api.connectTime=timing.connectEnd-timing.connectStart;api.requestTime=timing.responseEnd-timing.requestStart;api.initDomTreeTime=timing.domInteractive-timing.responseEnd;api.loadEventTime=timing.loadEventEnd-timing.loadEventStart}return api},printTable:function(opts){var table={};var data=this.getTimes(opts)||{};Object.keys(data).sort().forEach(function(k){table[k]={ms:data[k],s:+(data[k]/1e3).toFixed(2)}});console.table(table)},printSimpleTable:function(){this.printTable({simple:true})}};function isNumeric(n){return!isNaN(parseFloat(n))&&isFinite(n)}if(typeof module!==\"undefined\"&&module.exports){module.exports=window.timing}})(typeof window!==\"undefined\"?window:{});\n",
      "      \n",
      "      window.addEventListener(\"load\",function(){setTimeout(function(){newrelic&&timing&&timing.getTimes()&&Object.keys(timing.getTimes()).forEach(function(i){newrelic.setCustomAttribute(\"timing\"+i.charAt(0).toUpperCase()+i.slice(1),timing.getTimes()[i])})},0)});\n"
     ]
    }
   ],
   "source": [
    "# get the text from the page\n",
    "wu_text = wu_soup.get_text()\n",
    "\n",
    "# clean up the whitespace\n",
    "import re\n",
    "wu_text = re.sub(r'\\n+','\\n',wu_text.strip())\n",
    "print(wu_text[-1000:])"
   ]
  },
  {
   "cell_type": "markdown",
   "metadata": {
    "slideshow": {
     "slide_type": "slide"
    }
   },
   "source": [
    "### Need to actually render page to process scripts!"
   ]
  },
  {
   "cell_type": "code",
   "execution_count": 15,
   "metadata": {
    "slideshow": {
     "slide_type": "fragment"
    }
   },
   "outputs": [],
   "source": [
    "# need to install chromedriver: https://sites.google.com/a/chromium.org/chromedriver/home\n",
    "from selenium.webdriver.chrome.options import Options\n",
    "from selenium import webdriver\n",
    "\n",
    "chrome_options = Options()\n",
    "chrome_options.add_argument(\"--headless\")\n",
    "\n",
    "driver = webdriver.Chrome(options=chrome_options)"
   ]
  },
  {
   "cell_type": "code",
   "execution_count": 16,
   "metadata": {
    "slideshow": {
     "slide_type": "fragment"
    }
   },
   "outputs": [],
   "source": [
    "# this will actually render the page\n",
    "driver.get(wu_link)"
   ]
  },
  {
   "cell_type": "code",
   "execution_count": 18,
   "metadata": {
    "slideshow": {
     "slide_type": "fragment"
    }
   },
   "outputs": [],
   "source": [
    "# two ways to find the table we want\n",
    "wu_table = driver.find_element_by_class_name('mat-table')\n",
    "#wu_table = driver.find_element_by_id('history-observation-table')"
   ]
  },
  {
   "cell_type": "code",
   "execution_count": 19,
   "metadata": {
    "slideshow": {
     "slide_type": "slide"
    }
   },
   "outputs": [
    {
     "data": {
      "text/plain": [
       "'Time\\nTemperature\\nDew Point\\nHumidity\\nWind\\nWind Speed\\nWind Gust\\nPressure\\nPrecip.\\nCondition\\n12:51 AM 71 F 55 F 57 % SW 10 mph 0 mph 29.59 in 0.0 in Cloudy\\n1:51 AM 69 F 54 F 58 % WNW 9 mph 0 mph 29.57 in 0.0 in Mostly Cloudy\\n2:51 AM 67 F 44 F 44 % N 10 mph 0 mph 29.58 in 0.0 in Cloudy\\n3:51 AM 66 F 43 F 43 % NNE 10 mph 0 mph 29.59 in 0.0 in Fair\\n4:51 AM 64 F 43 F 46 % ESE 8 mph 0 mph 29.61 in 0.0 in Cloudy\\n5:51 AM 62 F 44 F 52 % N 3 mph 0 mph 29.63 in 0.0 in Cloudy\\n6:51 AM 61 F 44 F 54 % NE 6 mph 0 mph 29.65 in 0.0 in Mostly Cloudy\\n7:51 AM 65 F 37 F 36 % NNE 7 mph 0 mph 29.65 in 0.0 in Mostly Cloudy\\n8:51 AM 65 F 36 F 34 % E 7 mph 0 mph 29.65 in 0.0 in Partly Cloudy\\n9:51 AM 67 F 35 F 31 % NE 5 mph 0 mph 29.64 in 0.0 in Fair\\n10:51 AM 68 F 38 F 33 % WNW 9 mph 0 mph 29.64 in 0.0 in Fair\\n11:51 AM 71 F 36 F 28 % WNW 12 mph 0 mph 29.62 in 0.0 in Partly Cloudy\\n12:51 PM 69 F 37 F 31 % NW 12 mph 0 mph 29.61 in 0.0 in Mostly Cloudy\\n1:51 PM 66 F 36 F 33 % NW 20 mph 30 mph 29.63 in 0.0 in Mostly Cloudy\\n2:51 PM 63 F 35 F 35 % NNW 18 mph 35 mph 29.68 in 0.0 in Mostly Cloudy\\n3:51 PM 61 F 36 F 39 % WNW 26 mph 35 mph 29.70 in 0.0 in Cloudy / Windy'"
      ]
     },
     "execution_count": 19,
     "metadata": {},
     "output_type": "execute_result"
    }
   ],
   "source": [
    "# text in the table\n",
    "wu_table.text"
   ]
  },
  {
   "cell_type": "code",
   "execution_count": 24,
   "metadata": {
    "slideshow": {
     "slide_type": "slide"
    }
   },
   "outputs": [
    {
     "data": {
      "text/html": [
       "<div>\n",
       "<style scoped>\n",
       "    .dataframe tbody tr th:only-of-type {\n",
       "        vertical-align: middle;\n",
       "    }\n",
       "\n",
       "    .dataframe tbody tr th {\n",
       "        vertical-align: top;\n",
       "    }\n",
       "\n",
       "    .dataframe thead th {\n",
       "        text-align: right;\n",
       "    }\n",
       "</style>\n",
       "<table border=\"1\" class=\"dataframe\">\n",
       "  <thead>\n",
       "    <tr style=\"text-align: right;\">\n",
       "      <th></th>\n",
       "      <th>Time</th>\n",
       "      <th>Temperature</th>\n",
       "      <th>Dew Point</th>\n",
       "      <th>Humidity</th>\n",
       "      <th>Wind</th>\n",
       "      <th>Wind Speed</th>\n",
       "      <th>Wind Gust</th>\n",
       "      <th>Pressure</th>\n",
       "      <th>Precip.</th>\n",
       "      <th>Condition</th>\n",
       "    </tr>\n",
       "  </thead>\n",
       "  <tbody>\n",
       "    <tr>\n",
       "      <th>0</th>\n",
       "      <td>12:51 AM</td>\n",
       "      <td>71 F</td>\n",
       "      <td>55 F</td>\n",
       "      <td>57 %</td>\n",
       "      <td>SW</td>\n",
       "      <td>10 mph</td>\n",
       "      <td>0 mph</td>\n",
       "      <td>29.59 in</td>\n",
       "      <td>0.0 in</td>\n",
       "      <td>Cloudy</td>\n",
       "    </tr>\n",
       "    <tr>\n",
       "      <th>1</th>\n",
       "      <td>1:51 AM</td>\n",
       "      <td>69 F</td>\n",
       "      <td>54 F</td>\n",
       "      <td>58 %</td>\n",
       "      <td>WNW</td>\n",
       "      <td>9 mph</td>\n",
       "      <td>0 mph</td>\n",
       "      <td>29.57 in</td>\n",
       "      <td>0.0 in</td>\n",
       "      <td>Mostly Cloudy</td>\n",
       "    </tr>\n",
       "    <tr>\n",
       "      <th>2</th>\n",
       "      <td>2:51 AM</td>\n",
       "      <td>67 F</td>\n",
       "      <td>44 F</td>\n",
       "      <td>44 %</td>\n",
       "      <td>N</td>\n",
       "      <td>10 mph</td>\n",
       "      <td>0 mph</td>\n",
       "      <td>29.58 in</td>\n",
       "      <td>0.0 in</td>\n",
       "      <td>Cloudy</td>\n",
       "    </tr>\n",
       "    <tr>\n",
       "      <th>3</th>\n",
       "      <td>3:51 AM</td>\n",
       "      <td>66 F</td>\n",
       "      <td>43 F</td>\n",
       "      <td>43 %</td>\n",
       "      <td>NNE</td>\n",
       "      <td>10 mph</td>\n",
       "      <td>0 mph</td>\n",
       "      <td>29.59 in</td>\n",
       "      <td>0.0 in</td>\n",
       "      <td>Fair</td>\n",
       "    </tr>\n",
       "    <tr>\n",
       "      <th>4</th>\n",
       "      <td>4:51 AM</td>\n",
       "      <td>64 F</td>\n",
       "      <td>43 F</td>\n",
       "      <td>46 %</td>\n",
       "      <td>ESE</td>\n",
       "      <td>8 mph</td>\n",
       "      <td>0 mph</td>\n",
       "      <td>29.61 in</td>\n",
       "      <td>0.0 in</td>\n",
       "      <td>Cloudy</td>\n",
       "    </tr>\n",
       "  </tbody>\n",
       "</table>\n",
       "</div>"
      ],
      "text/plain": [
       "       Time Temperature Dew Point Humidity Wind Wind Speed Wind Gust  \\\n",
       "0  12:51 AM        71 F      55 F     57 %   SW     10 mph     0 mph   \n",
       "1   1:51 AM        69 F      54 F     58 %  WNW      9 mph     0 mph   \n",
       "2   2:51 AM        67 F      44 F     44 %    N     10 mph     0 mph   \n",
       "3   3:51 AM        66 F      43 F     43 %  NNE     10 mph     0 mph   \n",
       "4   4:51 AM        64 F      43 F     46 %  ESE      8 mph     0 mph   \n",
       "\n",
       "   Pressure Precip.      Condition  \n",
       "0  29.59 in  0.0 in         Cloudy  \n",
       "1  29.57 in  0.0 in  Mostly Cloudy  \n",
       "2  29.58 in  0.0 in         Cloudy  \n",
       "3  29.59 in  0.0 in           Fair  \n",
       "4  29.61 in  0.0 in         Cloudy  "
      ]
     },
     "execution_count": 24,
     "metadata": {},
     "output_type": "execute_result"
    }
   ],
   "source": [
    "# extracting text into a datafram\n",
    "wu_data = []\n",
    "for tr in wu_table.find_elements_by_css_selector('tr'):\n",
    "    tmp_row = []\n",
    "    for th in tr.find_elements_by_css_selector('th'):\n",
    "        tmp_row.append(th.text.strip())\n",
    "    for td in tr.find_elements_by_css_selector('td'):\n",
    "        tmp_row.append(td.text.strip())\n",
    "    wu_data.append(tmp_row)\n",
    "df_wu = pd.DataFrame(wu_data[1:],columns=wu_data[0])\n",
    "df_wu.head()"
   ]
  },
  {
   "cell_type": "code",
   "execution_count": 25,
   "metadata": {
    "slideshow": {
     "slide_type": "slide"
    }
   },
   "outputs": [
    {
     "data": {
      "text/plain": [
       "True"
      ]
     },
     "execution_count": 25,
     "metadata": {},
     "output_type": "execute_result"
    }
   ],
   "source": [
    "# visualize the rendered table, still missing some stuff, need to debug\n",
    "wu_table.screenshot('./images/test1.png')"
   ]
  },
  {
   "cell_type": "markdown",
   "metadata": {
    "slideshow": {
     "slide_type": "fragment"
    }
   },
   "source": [
    "<img src='./images/test1.png'>"
   ]
  }
 ],
 "metadata": {
  "celltoolbar": "Slideshow",
  "kernelspec": {
   "display_name": "eods-s20",
   "language": "python",
   "name": "eods-s20"
  },
  "language_info": {
   "codemirror_mode": {
    "name": "ipython",
    "version": 3
   },
   "file_extension": ".py",
   "mimetype": "text/x-python",
   "name": "python",
   "nbconvert_exporter": "python",
   "pygments_lexer": "ipython3",
   "version": "3.7.6"
  }
 },
 "nbformat": 4,
 "nbformat_minor": 2
}
