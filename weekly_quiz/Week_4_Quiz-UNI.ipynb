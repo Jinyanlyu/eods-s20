{
 "cells": [
  {
   "cell_type": "markdown",
   "metadata": {},
   "source": [
    "# Week 4 Quiz\n",
    "\n",
    "## [Name] - [UNI]\n",
    "\n",
    "### Due Sunday Feb 23 9:00am"
   ]
  },
  {
   "cell_type": "code",
   "execution_count": null,
   "metadata": {},
   "outputs": [],
   "source": [
    "import pandas as pd\n",
    "import numpy as np\n",
    "import seaborn as sns\n",
    "\n",
    "%matplotlib inline"
   ]
  },
  {
   "cell_type": "markdown",
   "metadata": {},
   "source": [
    "We're going to calculate the 95% confidence interval for the mean value of 'magnesium' from our wine dataset."
   ]
  },
  {
   "cell_type": "code",
   "execution_count": null,
   "metadata": {},
   "outputs": [],
   "source": [
    "# Read in ../data/wine_dataset.csv as df\n",
    "df = ____"
   ]
  },
  {
   "cell_type": "code",
   "execution_count": null,
   "metadata": {},
   "outputs": [],
   "source": [
    "# Generate a distribution plot of the magnesium column.\n",
    "____"
   ]
  },
  {
   "cell_type": "code",
   "execution_count": null,
   "metadata": {},
   "outputs": [],
   "source": [
    "# Assign the mean value of magnesium to variable observed_mean\n",
    "observed_mean = ____\n",
    "\n",
    "# Print the observed mean to the hundredths place\n",
    "____"
   ]
  },
  {
   "cell_type": "code",
   "execution_count": null,
   "metadata": {},
   "outputs": [],
   "source": [
    "# generate a bootstrap sample (with the same number of values as the original dataset)\n",
    "#   using pandas sample (with replacement) \n",
    "#   using random_state=123\n",
    "#   assign the result to sample\n",
    "sample = ____\n",
    "\n",
    "# Print the mean of the sample to the hundredths place\n",
    "# Note: if the sample mean is the same as the observed mean, \n",
    "#       check, are you sampling with replacement?\n",
    "____"
   ]
  },
  {
   "cell_type": "code",
   "execution_count": null,
   "metadata": {},
   "outputs": [],
   "source": [
    "# Generate 1000 additional sample means using bootstrap sampling\n",
    "#   each sample should have the same length as the original dataframe\n",
    "#   store in the list sample_means\n",
    "#   do not use random_state for this step (your results may differ from the course solution slightly)\n",
    "sample_means = ____\n",
    "____\n",
    "    \n",
    "# Print the first 5 values in sample_means\n",
    "____"
   ]
  },
  {
   "cell_type": "code",
   "execution_count": null,
   "metadata": {},
   "outputs": [],
   "source": [
    "# Plot the distribution of sample means using sns.distplot\n",
    "# Store the returned axis in ax.\n",
    "ax = ____\n",
    "\n",
    "# Add a vertical line located at the observed mean on the x-axis using ax.vlines()\n",
    "#     Use ax.get_ylim() to provide the y limits\n",
    "____"
   ]
  },
  {
   "cell_type": "code",
   "execution_count": null,
   "metadata": {},
   "outputs": [],
   "source": [
    "# To get the 95% confidence interval, we need want to retain the central 95% of our sample means.\n",
    "# To do this we need to first determine how many values must be trimmed from the ends of the sorted array.\n",
    "# For 95% CI, we want to trim 1/2 of 5% from each end.\n",
    "# Calculate 2.5% of the length of sample_means and store as trim_amount.\n",
    "trim_amount = ____\n",
    "\n",
    "# We want to index into our sample means, but trim_amount is a float.\n",
    "# We must be first round this value and converted to an integer.\n",
    "# Use np.round() to round and int() to convert to int and store the result in trim_idx.\n",
    "trim_idx = ____\n",
    "\n",
    "# Print trim_idx\n",
    "trim_idx"
   ]
  },
  {
   "cell_type": "code",
   "execution_count": null,
   "metadata": {},
   "outputs": [],
   "source": [
    "# We can now print the 95% CI for our measure by indexing into the sorted array of sample means.\n",
    "# Use np.sorted() to return a sorted numpy array \n",
    "#   then use a list of the indices we want [trim_idx,-trim_idx] to index into this sorted array.\n",
    "# Store the 95% CI values as ci\n",
    "ci = ____\n",
    "\n",
    "# Print the ci values\n",
    "ci"
   ]
  },
  {
   "cell_type": "code",
   "execution_count": null,
   "metadata": {},
   "outputs": [],
   "source": [
    "# We can confirm these values by using seaborns barplot function.\n",
    "# Call seaborn barplot on the magnesium column from the original dataframe\n",
    "#   and compare the 95% CI plotted there to the values we calculated\n",
    "# Capture the returned axis in x\n",
    "____\n",
    "\n",
    "# Modify the xaxis to zoom in between 80 and 110 using ax.set_xlim(80,110)\n",
    "____"
   ]
  },
  {
   "cell_type": "code",
   "execution_count": null,
   "metadata": {},
   "outputs": [],
   "source": []
  }
 ],
 "metadata": {
  "kernelspec": {
   "display_name": "eods-s20",
   "language": "python",
   "name": "eods-s20"
  },
  "language_info": {
   "codemirror_mode": {
    "name": "ipython",
    "version": 3
   },
   "file_extension": ".py",
   "mimetype": "text/x-python",
   "name": "python",
   "nbconvert_exporter": "python",
   "pygments_lexer": "ipython3",
   "version": "3.7.6"
  }
 },
 "nbformat": 4,
 "nbformat_minor": 2
}
