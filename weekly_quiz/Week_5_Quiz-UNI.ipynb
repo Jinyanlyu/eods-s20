{
 "cells": [
  {
   "cell_type": "markdown",
   "metadata": {},
   "source": [
    "# Week 5 Quiz\n",
    "\n",
    "## Name - UNI"
   ]
  },
  {
   "cell_type": "code",
   "execution_count": null,
   "metadata": {},
   "outputs": [],
   "source": [
    "import numpy as np\n",
    "from sklearn.model_selection import train_test_split\n",
    "from sklearn.datasets import load_breast_cancer\n",
    "from sklearn.dummy import DummyClassifier\n",
    "from sklearn.neighbors import KNeighborsClassifier\n",
    "from sklearn.model_selection import cross_val_score\n",
    "\n",
    "# to supress warnings about a change in the KNeighborsClassifier solver\n",
    "import warnings\n",
    "warnings.simplefilter(action='ignore', category=FutureWarning)"
   ]
  },
  {
   "cell_type": "code",
   "execution_count": null,
   "metadata": {},
   "outputs": [],
   "source": [
    "# Load the sample breast_cancer dataset from Scikit-Learn\n",
    "#   returning just the X features matrix and y label vector.\n",
    "#   The target here is a binary classification task.\n",
    "#   For more information, see https://scikit-learn.org/stable/datasets/index.html#breast-cancer-dataset\n",
    "X,y = load_breast_cancer(return_X_y=True)"
   ]
  },
  {
   "cell_type": "code",
   "execution_count": null,
   "metadata": {},
   "outputs": [],
   "source": [
    "# Split X and y into X_train,X_test,y_train,y_test \n",
    "#   using train_test_split, stratify using y, using the default test_size.\n",
    "____"
   ]
  },
  {
   "cell_type": "code",
   "execution_count": null,
   "metadata": {},
   "outputs": [],
   "source": [
    "# Get a baseline, mean 5-fold cross-validation accuracy score \n",
    "#   for a DummyClassifier with default parameter settings \n",
    "#   using X_train,y_train.\n",
    "dummy_scores = ____\n",
    "print(f'mean cv accuracy: {____:0.2f}')"
   ]
  },
  {
   "cell_type": "code",
   "execution_count": null,
   "metadata": {},
   "outputs": [],
   "source": [
    "# Get a mean, 5-fold cross-validation accuracy score \n",
    "#   for a KNeighborsClassifier model with n_neighbors=3 and metric='euclidean'\n",
    "#   using X_train,y_train.\n",
    "knn_scores = ____\n",
    "print(f'mean cv accuracy: {____:0.2f}')"
   ]
  },
  {
   "cell_type": "code",
   "execution_count": null,
   "metadata": {},
   "outputs": [],
   "source": [
    "# Train a KNeighborsClassifier model with the same hyperparameter settings as above\n",
    "#    on the full training set.\n",
    "knn = ____"
   ]
  },
  {
   "cell_type": "code",
   "execution_count": null,
   "metadata": {},
   "outputs": [],
   "source": [
    "# Evaluate generalization accuracy of the trained KNeighborsClassifier model on the test set.\n",
    "acc = ____\n",
    "print(f'test-set accuracy: {____:0.2f}')"
   ]
  },
  {
   "cell_type": "markdown",
   "metadata": {},
   "source": [
    "### Question: Does our KNeighborsClassifier model seem to be overfitting, underfitting or performing well and why?\n",
    "\n",
    "____"
   ]
  }
 ],
 "metadata": {
  "kernelspec": {
   "display_name": "eods-s20",
   "language": "python",
   "name": "eods-s20"
  },
  "language_info": {
   "codemirror_mode": {
    "name": "ipython",
    "version": 3
   },
   "file_extension": ".py",
   "mimetype": "text/x-python",
   "name": "python",
   "nbconvert_exporter": "python",
   "pygments_lexer": "ipython3",
   "version": "3.7.6"
  }
 },
 "nbformat": 4,
 "nbformat_minor": 2
}
