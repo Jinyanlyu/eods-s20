{
 "cells": [
  {
   "cell_type": "markdown",
   "metadata": {},
   "source": [
    "# Week 7 Quiz\n",
    "\n",
    "## Name - UNI"
   ]
  },
  {
   "cell_type": "code",
   "execution_count": null,
   "metadata": {},
   "outputs": [],
   "source": [
    "# import libraries as needed\n"
   ]
  },
  {
   "cell_type": "code",
   "execution_count": null,
   "metadata": {},
   "outputs": [],
   "source": [
    "# Load the example Boston Housing dataset we used in the Week 6 quiz\n",
    "# Recall that the features are stored in 'data' and target (sale price) is stored in 'target'\n"
   ]
  },
  {
   "cell_type": "code",
   "execution_count": null,
   "metadata": {},
   "outputs": [],
   "source": [
    "# Split the data into training and test sets using train_test_split with default values\n"
   ]
  },
  {
   "cell_type": "code",
   "execution_count": null,
   "metadata": {},
   "outputs": [],
   "source": [
    "# Instantiate and fit a LassoCV model on the training set\n"
   ]
  },
  {
   "cell_type": "code",
   "execution_count": null,
   "metadata": {
    "scrolled": true
   },
   "outputs": [],
   "source": [
    "# Print out the the training set and test set R^2 for the trained LassoCV model to 3 decimal places\n"
   ]
  },
  {
   "cell_type": "code",
   "execution_count": null,
   "metadata": {
    "scrolled": true
   },
   "outputs": [],
   "source": [
    "# Print out the alpha regularization value that was chosen by the LassoCV model\n"
   ]
  },
  {
   "cell_type": "code",
   "execution_count": null,
   "metadata": {},
   "outputs": [],
   "source": [
    "# The Multi-Layer Perceptron included in sklearn can do regularization as well\n",
    "# Instantiate and fit an MLPRegressor model on the training set\n",
    "# Use 2 hidden layers of sizes 100 and 20 and logistic activation\n",
    "# Note: if you get conversion warnings, you'll need to increase max_iter\n"
   ]
  },
  {
   "cell_type": "code",
   "execution_count": null,
   "metadata": {},
   "outputs": [],
   "source": [
    "# Print out the the training set and test set R^2 for the trained MLPRegressor model to 3 decimal places\n"
   ]
  },
  {
   "cell_type": "code",
   "execution_count": null,
   "metadata": {},
   "outputs": [],
   "source": [
    "# Can you find a setting of hidden layers and activation function that improves both our training and test scores?\n",
    "# Available activations are ['identity','logistic','tanh','relu']\n",
    "# Do some activations appear to converge faster than others? (can use %%time magic to print 'Wall time')\n",
    "\n",
    "# Note: Recall that in practice you should avoid re-evaluating using the same test set! Use CV instead."
   ]
  }
 ],
 "metadata": {
  "kernelspec": {
   "display_name": "eods-s20",
   "language": "python",
   "name": "eods-s20"
  },
  "language_info": {
   "codemirror_mode": {
    "name": "ipython",
    "version": 3
   },
   "file_extension": ".py",
   "mimetype": "text/x-python",
   "name": "python",
   "nbconvert_exporter": "python",
   "pygments_lexer": "ipython3",
   "version": "3.7.6"
  }
 },
 "nbformat": 4,
 "nbformat_minor": 2
}
